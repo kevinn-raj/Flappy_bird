{
 "cells": [
  {
   "cell_type": "markdown",
   "id": "1bd0b3ff",
   "metadata": {},
   "source": [
    "# Analysis for the the one with curriculum learning"
   ]
  },
  {
   "cell_type": "code",
   "execution_count": 1,
   "id": "unlike-degree",
   "metadata": {
    "scrolled": true
   },
   "outputs": [],
   "source": [
    "import tbparse\n",
    "import pandas as pd\n",
    "import matplotlib.pyplot as plt\n",
    "import numpy as np"
   ]
  },
  {
   "cell_type": "markdown",
   "id": "southeast-selection",
   "metadata": {},
   "source": [
    "# For the training"
   ]
  },
  {
   "cell_type": "code",
   "execution_count": 2,
   "id": "convertible-dayton",
   "metadata": {
    "scrolled": true
   },
   "outputs": [
    {
     "data": {
      "text/plain": [
       "array(['Environment/Cumulative Reward', 'Environment/Episode Length',\n",
       "       'Environment/Lesson Number/aux_input',\n",
       "       'Environment/Lesson Number/n_obstacles',\n",
       "       'Losses/Curiosity Forward Loss', 'Losses/Curiosity Inverse Loss',\n",
       "       'Losses/Policy Loss', 'Losses/Value Loss', 'Policy/Beta',\n",
       "       'Policy/Curiosity Reward', 'Policy/Curiosity Value Estimate',\n",
       "       'Policy/Entropy', 'Policy/Epsilon', 'Policy/Extrinsic Reward',\n",
       "       'Policy/Extrinsic Value Estimate', 'Policy/Learning Rate', 'Score',\n",
       "       'Y_difference', 'distance', 'height', 'theta'], dtype=object)"
      ]
     },
     "execution_count": 2,
     "metadata": {},
     "output_type": "execute_result"
    }
   ],
   "source": [
    "from tbparse import SummaryReader\n",
    "Gen_ARL_train = r\"../../TrainerConfig/results/Curr42d/Generator/\"\n",
    "Solver_ARL_train = r\"../../TrainerConfig/results/Curr42d/Solver/\"\n",
    "reader_gen = SummaryReader(Gen_ARL_train)\n",
    "reader_solver = SummaryReader(Solver_ARL_train)\n",
    "df_solver = reader_solver.scalars\n",
    "df_gen = reader_gen.scalars\n",
    "pd.unique(df_gen[\"tag\"])\n",
    "# df_gen.head()\n",
    "# df_gen"
   ]
  },
  {
   "cell_type": "code",
   "execution_count": 3,
   "id": "60516175",
   "metadata": {},
   "outputs": [
    {
     "data": {
      "text/html": [
       "<div>\n",
       "<style scoped>\n",
       "    .dataframe tbody tr th:only-of-type {\n",
       "        vertical-align: middle;\n",
       "    }\n",
       "\n",
       "    .dataframe tbody tr th {\n",
       "        vertical-align: top;\n",
       "    }\n",
       "\n",
       "    .dataframe thead th {\n",
       "        text-align: right;\n",
       "    }\n",
       "</style>\n",
       "<table border=\"1\" class=\"dataframe\">\n",
       "  <thead>\n",
       "    <tr style=\"text-align: right;\">\n",
       "      <th></th>\n",
       "      <th>step</th>\n",
       "      <th>tag</th>\n",
       "      <th>value</th>\n",
       "    </tr>\n",
       "  </thead>\n",
       "  <tbody>\n",
       "    <tr>\n",
       "      <th>0</th>\n",
       "      <td>1000</td>\n",
       "      <td>Environment/Cumulative Reward</td>\n",
       "      <td>1.182363</td>\n",
       "    </tr>\n",
       "    <tr>\n",
       "      <th>1</th>\n",
       "      <td>2000</td>\n",
       "      <td>Environment/Cumulative Reward</td>\n",
       "      <td>1.892153</td>\n",
       "    </tr>\n",
       "    <tr>\n",
       "      <th>2</th>\n",
       "      <td>3000</td>\n",
       "      <td>Environment/Cumulative Reward</td>\n",
       "      <td>3.627184</td>\n",
       "    </tr>\n",
       "    <tr>\n",
       "      <th>3</th>\n",
       "      <td>4000</td>\n",
       "      <td>Environment/Cumulative Reward</td>\n",
       "      <td>4.152931</td>\n",
       "    </tr>\n",
       "    <tr>\n",
       "      <th>4</th>\n",
       "      <td>5000</td>\n",
       "      <td>Environment/Cumulative Reward</td>\n",
       "      <td>5.583900</td>\n",
       "    </tr>\n",
       "    <tr>\n",
       "      <th>...</th>\n",
       "      <td>...</td>\n",
       "      <td>...</td>\n",
       "      <td>...</td>\n",
       "    </tr>\n",
       "    <tr>\n",
       "      <th>5742</th>\n",
       "      <td>366000</td>\n",
       "      <td>theta</td>\n",
       "      <td>-0.038249</td>\n",
       "    </tr>\n",
       "    <tr>\n",
       "      <th>5743</th>\n",
       "      <td>367000</td>\n",
       "      <td>theta</td>\n",
       "      <td>0.992048</td>\n",
       "    </tr>\n",
       "    <tr>\n",
       "      <th>5744</th>\n",
       "      <td>368000</td>\n",
       "      <td>theta</td>\n",
       "      <td>1.707731</td>\n",
       "    </tr>\n",
       "    <tr>\n",
       "      <th>5745</th>\n",
       "      <td>369000</td>\n",
       "      <td>theta</td>\n",
       "      <td>-0.894614</td>\n",
       "    </tr>\n",
       "    <tr>\n",
       "      <th>5746</th>\n",
       "      <td>370000</td>\n",
       "      <td>theta</td>\n",
       "      <td>2.484794</td>\n",
       "    </tr>\n",
       "  </tbody>\n",
       "</table>\n",
       "<p>5747 rows × 3 columns</p>\n",
       "</div>"
      ],
      "text/plain": [
       "        step                            tag     value\n",
       "0       1000  Environment/Cumulative Reward  1.182363\n",
       "1       2000  Environment/Cumulative Reward  1.892153\n",
       "2       3000  Environment/Cumulative Reward  3.627184\n",
       "3       4000  Environment/Cumulative Reward  4.152931\n",
       "4       5000  Environment/Cumulative Reward  5.583900\n",
       "...      ...                            ...       ...\n",
       "5742  366000                          theta -0.038249\n",
       "5743  367000                          theta  0.992048\n",
       "5744  368000                          theta  1.707731\n",
       "5745  369000                          theta -0.894614\n",
       "5746  370000                          theta  2.484794\n",
       "\n",
       "[5747 rows x 3 columns]"
      ]
     },
     "execution_count": 3,
     "metadata": {},
     "output_type": "execute_result"
    }
   ],
   "source": [
    "df_gen"
   ]
  },
  {
   "cell_type": "code",
   "execution_count": 4,
   "id": "derived-pledge",
   "metadata": {
    "scrolled": false
   },
   "outputs": [
    {
     "data": {
      "image/png": "[encoded data removed]",
      "text/plain": [
       "<Figure size 640x480 with 2 Axes>"
      ]
     },
     "metadata": {},
     "output_type": "display_data"
    }
   ],
   "source": [
    "auxs = [0, .3, .5, .75, 1]\n",
    "solver_cum_pd = df_solver.loc[df_solver[\"tag\"]==\"Environment/Cumulative Reward\", [\"step\", \"value\"]]\n",
    "ax1 = plt.subplot(2,1,1)\n",
    "\n",
    "maxstep = 2.85e6\n",
    "#  Generator\n",
    "kwards = {'x':\"step\", 'y':\"value\", \"kind\":\"line\"}\n",
    "solver_cum_pd.plot(**kwards, linewidth=.5, ax=ax1, alpha=.5, label=\"Original\")\n",
    "#  Smoothed version\n",
    "solver_cum_pd.rolling(100).mean().plot(**kwards, linewidth=1, ax=ax1, label=\"Smoothed\")\n",
    "ax1.set_xlabel(\"Steps\")\n",
    "ax1.set_ylabel(\"Cumulative reward\")\n",
    "ax1.set_xlim(0, maxstep)\n",
    "ax1.set_title(\"Solver\")\n",
    "fill_args = {'alpha':0.1}\n",
    "ymax = 6\n",
    "# Regions\n",
    "ax1.fill_betweenx([0,ymax],auxs[0]*maxstep,auxs[1]*maxstep, color='darkgreen', **fill_args,\n",
    "                  label=r\"$\\lambda=1$\")\n",
    "ax1.fill_betweenx([0,ymax],auxs[1]*maxstep,auxs[2]*maxstep, color='red', **fill_args,\n",
    "                  label=r\"$\\lambda=-1$\")\n",
    "ax1.fill_betweenx([0,ymax],auxs[2]*maxstep,auxs[3]*maxstep, color='darkgreen', **fill_args)\n",
    "ax1.fill_betweenx([0,ymax],auxs[3]*maxstep,auxs[4]*maxstep, color='red', **fill_args)\n",
    "ax1.legend(loc='center right',bbox_to_anchor=(1.4,.5))\n",
    "\n",
    "# Solver\n",
    "maxstep = 3.1e5\n",
    "ymax=20\n",
    "ymin=-1\n",
    "# Solver\n",
    "ax2 = plt.subplot(2,1,2)\n",
    "gen_cum_pd = df_gen.loc[df_gen[\"tag\"]==\"Environment/Cumulative Reward\", [\"step\", \"value\"]]\n",
    "gen_cum_pd.plot(**kwards, ax=ax2, color='darkred', linewidth=.7, label=\"\")\n",
    "ax2.set_xlabel(\"Steps\")\n",
    "ax2.set_ylabel(\"Cumulative reward\")\n",
    "ax2.set_xlim(0, 3e5)\n",
    "# ax2.legend(\"\", frameon=False)\n",
    "ax2.set_title(\"Generator\")\n",
    "# Regions\n",
    "ax2.fill_betweenx([ymin,ymax],auxs[0]*maxstep,auxs[1]*maxstep, color='darkgreen', **fill_args,\n",
    "                  label=r\"$\\lambda=1$\")\n",
    "ax2.fill_betweenx([ymin,ymax],auxs[1]*maxstep,auxs[2]*maxstep, color='red', **fill_args,\n",
    "                  label=r\"$\\lambda=-1$\")\n",
    "ax2.fill_betweenx([ymin,ymax],auxs[2]*maxstep,auxs[3]*maxstep, color='darkgreen', **fill_args)\n",
    "ax2.fill_betweenx([ymin,ymax],auxs[3]*maxstep,auxs[4]*maxstep, color='red', **fill_args)\n",
    "ax2.legend(loc='center right',bbox_to_anchor=(1.4,.5))\n",
    "plt.tight_layout()\n",
    "plt.savefig(\"images/Cumm_reward_Curr42d.pdf\")"
   ]
  },
  {
   "cell_type": "markdown",
   "id": "fancy-growth",
   "metadata": {},
   "source": [
    "# For test"
   ]
  },
  {
   "cell_type": "code",
   "execution_count": 27,
   "id": "e222a6c4",
   "metadata": {},
   "outputs": [],
   "source": [
    "from tbparse import SummaryReader"
   ]
  },
  {
   "cell_type": "code",
   "execution_count": 48,
   "id": "bdd51b03",
   "metadata": {},
   "outputs": [],
   "source": [
    "# Get the scores datas from tensorboard events\n",
    "# Needs the tbparse module\n",
    "def get_score(path, aux_input, step_start=100000):\n",
    "    reader = SummaryReader(path)\n",
    "    dfScore = reader.scalars\n",
    "    Score = dfScore.loc[dfScore[\"tag\"]=='Score',['step', 'value']]\n",
    "    Score.rename(columns = {'value':'Score'}, inplace=True)\n",
    "    Score[\"aux_input\"] = aux_input\n",
    "    Score = Score.loc[Score['step'] > step_start,:]\n",
    "    return Score"
   ]
  },
  {
   "cell_type": "code",
   "execution_count": 160,
   "id": "6e5c710b",
   "metadata": {},
   "outputs": [],
   "source": [
    "ARL  = dict()\n",
    "PCG  = dict()\n",
    "PCG_Const = dict()\n",
    "\n",
    "for aux in [1, 0.5, 0, -0.5, -1]:\n",
    "    path_ARL = f\"../../TrainerConfig/results/InferCurr42d_{aux}/Solver/\"\n",
    "    ARL[aux] = get_score(path_ARL, aux)\n",
    "    \n",
    "    path_PCG = f\"../../TrainerConfig/results/InferPCG_2_aux_{aux}/Solver/\"\n",
    "    PCG[aux] = get_score(path_PCG, aux)\n",
    "    \n",
    "    path_constPCG = f\"../../TrainerConfig/results/InferPCG_Const_1_aux_{aux}/Solver/\"\n",
    "    PCG_Const[aux] = get_score(path_constPCG, aux)"
   ]
  },
  {
   "cell_type": "markdown",
   "id": "a41e3259",
   "metadata": {},
   "source": [
    "### Box plot of the scores for ARLPCG"
   ]
  },
  {
   "cell_type": "code",
   "execution_count": 113,
   "id": "bad700c7",
   "metadata": {
    "scrolled": false
   },
   "outputs": [
    {
     "data": {
      "text/plain": [
       "Text(0.5, 1.0, '')"
      ]
     },
     "execution_count": 113,
     "metadata": {},
     "output_type": "execute_result"
    },
    {
     "data": {
      "image/png": "[encoded data removed]",
      "text/plain": [
       "<Figure size 640x480 with 1 Axes>"
      ]
     },
     "metadata": {},
     "output_type": "display_data"
    }
   ],
   "source": [
    "ARLs = pd.concat([ARL[d] for d in ARL]) # Combine the DataFrames\n",
    "grouped = ARLs.groupby('aux_input')\n",
    "fig = plt.figure()\n",
    "ax = fig.gca()\n",
    "ax.grid()\n",
    "# bp = grouped.boxplot(column=[\"Score\"], subplots=False, ax=ax)\n",
    "ARLs.loc[:,[\"Score\", \"aux_input\"]].boxplot(by=\"aux_input\", ax=ax)\n",
    "ax.set_xlabel(r\"$\\lambda$\")\n",
    "ax.set_ylabel(\"Score\")\n",
    "plt.suptitle(\"\")\n",
    "plt.title(\"\")"
   ]
  },
  {
   "cell_type": "code",
   "execution_count": 154,
   "id": "baa3da26",
   "metadata": {
    "scrolled": false
   },
   "outputs": [],
   "source": [
    "def boxplots(df_dict, suptitle=\"\", title=\"\", ax=None, **kwargs):\n",
    "    df_dicts = pd.concat([df_dict[d] for d in df_dict]) # Combine the DataFrames\n",
    "    grouped = df_dicts.groupby('aux_input')\n",
    "    \n",
    "    # new figure\n",
    "    if(ax == None):\n",
    "        fig = plt.figure()\n",
    "        ax = fig.gca()\n",
    "        ax.grid()\n",
    "    \n",
    "    # box plot by aux_input\n",
    "    df_dicts.loc[:,[\"Score\", \"aux_input\"]].boxplot(by=\"aux_input\", ax=ax, **kwargs)\n",
    "    ax.set_xlabel(r\"$\\lambda$\")\n",
    "    ax.set_ylabel(\"Score\")\n",
    "#     ax.suptitle.set_text(suptitle)\n",
    "    ax.title.set_text(title)"
   ]
  },
  {
   "cell_type": "code",
   "execution_count": 161,
   "id": "49a6f500",
   "metadata": {
    "scrolled": false
   },
   "outputs": [
    {
     "data": {
      "image/png": "[encoded data removed]",
      "text/plain": [
       "<Figure size 640x480 with 3 Axes>"
      ]
     },
     "metadata": {},
     "output_type": "display_data"
    }
   ],
   "source": [
    "n = 3\n",
    "fig = plt.figure()\n",
    "axs = []\n",
    "[axs.append(plt.subplot(1,n,i)) for i in range(1,n+1)]\n",
    "# axs.append(plt.subplot(1,3,1))\n",
    "# axs.append(plt.subplot(1,3,2))\n",
    "# axs.append(plt.subplot(1,3,3))\n",
    "\n",
    "for ax in axs:\n",
    "    ax.set_ylim(3,10)\n",
    "\n",
    "boxplots(ARL, ax=axs[0], title=\"ARLPCG\")\n",
    "boxplots(PCG, ax=axs[1], title=\"Domain randomization\")\n",
    "boxplots(PCG, ax=axs[2], title=\"Similar to the original\")\n",
    "plt.suptitle(\"\")\n",
    "plt.tight_layout()"
   ]
  },
  {
   "cell_type": "code",
   "execution_count": null,
   "id": "97776722",
   "metadata": {},
   "outputs": [],
   "source": [
    "pd.Series."
   ]
  },
  {
   "cell_type": "code",
   "execution_count": 170,
   "id": "bf75aba8",
   "metadata": {
    "scrolled": false
   },
   "outputs": [
    {
     "ename": "TypeError",
     "evalue": "cannot convert the series to <class 'float'>",
     "output_type": "error",
     "traceback": [
      "\u001b[0;31m---------------------------------------------------------------------------\u001b[0m",
      "\u001b[0;31mTypeError\u001b[0m                                 Traceback (most recent call last)",
      "Cell \u001b[0;32mIn[170], line 1\u001b[0m\n\u001b[0;32m----> 1\u001b[0m \u001b[38;5;28;43mfloat\u001b[39;49m\u001b[43m(\u001b[49m\u001b[43mPCG_Const\u001b[49m\u001b[43m[\u001b[49m\u001b[38;5;241;43m1\u001b[39;49m\u001b[43m]\u001b[49m\u001b[38;5;241;43m.\u001b[39;49m\u001b[43mmean\u001b[49m\u001b[43m(\u001b[49m\u001b[43m)\u001b[49m\u001b[43m)\u001b[49m\n",
      "File \u001b[0;32m~/Unity_projects/Flappy_bird/Analysis/tbparse_env/lib/python3.9/site-packages/pandas/core/series.py:230\u001b[0m, in \u001b[0;36m_coerce_method.<locals>.wrapper\u001b[0;34m(self)\u001b[0m\n\u001b[1;32m    222\u001b[0m     warnings\u001b[38;5;241m.\u001b[39mwarn(\n\u001b[1;32m    223\u001b[0m         \u001b[38;5;124mf\u001b[39m\u001b[38;5;124m\"\u001b[39m\u001b[38;5;124mCalling \u001b[39m\u001b[38;5;132;01m{\u001b[39;00mconverter\u001b[38;5;241m.\u001b[39m\u001b[38;5;18m__name__\u001b[39m\u001b[38;5;132;01m}\u001b[39;00m\u001b[38;5;124m on a single element Series is \u001b[39m\u001b[38;5;124m\"\u001b[39m\n\u001b[1;32m    224\u001b[0m         \u001b[38;5;124m\"\u001b[39m\u001b[38;5;124mdeprecated and will raise a TypeError in the future. \u001b[39m\u001b[38;5;124m\"\u001b[39m\n\u001b[0;32m   (...)\u001b[0m\n\u001b[1;32m    227\u001b[0m         stacklevel\u001b[38;5;241m=\u001b[39mfind_stack_level(),\n\u001b[1;32m    228\u001b[0m     )\n\u001b[1;32m    229\u001b[0m     \u001b[38;5;28;01mreturn\u001b[39;00m converter(\u001b[38;5;28mself\u001b[39m\u001b[38;5;241m.\u001b[39miloc[\u001b[38;5;241m0\u001b[39m])\n\u001b[0;32m--> 230\u001b[0m \u001b[38;5;28;01mraise\u001b[39;00m \u001b[38;5;167;01mTypeError\u001b[39;00m(\u001b[38;5;124mf\u001b[39m\u001b[38;5;124m\"\u001b[39m\u001b[38;5;124mcannot convert the series to \u001b[39m\u001b[38;5;132;01m{\u001b[39;00mconverter\u001b[38;5;132;01m}\u001b[39;00m\u001b[38;5;124m\"\u001b[39m)\n",
      "\u001b[0;31mTypeError\u001b[0m: cannot convert the series to <class 'float'>"
     ]
    }
   ],
   "source": [
    "PCG_Const[1].mean()"
   ]
  },
  {
   "cell_type": "code",
   "execution_count": 164,
   "id": "55633c4e",
   "metadata": {
    "scrolled": true
   },
   "outputs": [
    {
     "data": {
      "text/plain": [
       "step         695500.000000\n",
       "Score             7.846154\n",
       "aux_input         1.000000\n",
       "dtype: float64"
      ]
     },
     "execution_count": 164,
     "metadata": {},
     "output_type": "execute_result"
    }
   ],
   "source": [
    "PCG[1].mean()"
   ]
  },
  {
   "cell_type": "code",
   "execution_count": 167,
   "id": "0bb9f0ec",
   "metadata": {
    "scrolled": true
   },
   "outputs": [
    {
     "data": {
      "text/plain": [
       "step         1.555500e+06\n",
       "Score        7.671879e+00\n",
       "aux_input    1.000000e+00\n",
       "dtype: float64"
      ]
     },
     "execution_count": 167,
     "metadata": {},
     "output_type": "execute_result"
    }
   ],
   "source": [
    "ARL[1].mean()"
   ]
  },
  {
   "cell_type": "code",
   "execution_count": 204,
   "id": "e6d2fdf4",
   "metadata": {},
   "outputs": [],
   "source": [
    "def means(df_list, tag=\"Score\"):\n",
    "    value = []\n",
    "    for d in df_list:\n",
    "        value.append(d[tag].mean())\n",
    "    return np.array(value)\n",
    "    \n",
    "def medians(df_list, tag=\"Score\"):\n",
    "    value = []\n",
    "    for d in df_list:\n",
    "        value.append(d[tag].median())\n",
    "    return np.array(value)\n",
    "\n",
    "def std(df_list, tag=\"Score\"):\n",
    "    value = []\n",
    "    for d in df_list:\n",
    "        value.append(d[tag].std())\n",
    "    return np.array(value)\n",
    "\n",
    "def ratio(df, aux, average_method = \"mean\"):\n",
    "    if(average_method == \"mean\"):\n",
    "        return df[aux][\"Score\"].mean() / 10\n",
    "    elif(average_method == \"median\"):\n",
    "        return df[aux][\"Score\"].median() / 10\n",
    "    else:\n",
    "        return df[aux][\"Score\"].mean() / 10\n",
    "    \n",
    "def ratioWithStd(df, aux, average_method = \"mean\"):\n",
    "    std = df[aux][\"Score\"].std() / 10\n",
    "    if(average_method == \"mean\"):\n",
    "        av = df[aux][\"Score\"].mean() / 10\n",
    "        return f\"{av:.3f}$\\pm${std:.3f}\"\n",
    "    elif(average_method == \"median\"):\n",
    "        av = df[aux][\"Score\"].median() / 10\n",
    "        return f\"{av:.3f}$\\pm${std:.3f}\""
   ]
  },
  {
   "cell_type": "markdown",
   "id": "86b5a206",
   "metadata": {},
   "source": [
    "# Solving ratio without error"
   ]
  },
  {
   "cell_type": "code",
   "execution_count": 197,
   "id": "27a6aee8",
   "metadata": {},
   "outputs": [],
   "source": [
    "aux_list = [-1, -.5, 0, .5, 1]\n",
    "models = [\"ARLPCG\", \"PCG\", \"Const PCG\"]\n",
    "descr = dict()\n",
    "\n",
    "# Create a table of the solving ratio\n",
    "descr[models[0]] = {aux:ratio(ARLs, aux) for aux in aux_list} #ARLPCG\n",
    "descr[models[1]] = {aux:ratio(PCGs, aux) for aux in aux_list} #PCG\n",
    "descr[models[2]] = {aux: ratio(PCG_Const, aux) for aux in aux_list} #Const PCG"
   ]
  },
  {
   "cell_type": "code",
   "execution_count": 198,
   "id": "4d1b33bf",
   "metadata": {},
   "outputs": [
    {
     "data": {
      "text/html": [
       "<div>\n",
       "<style scoped>\n",
       "    .dataframe tbody tr th:only-of-type {\n",
       "        vertical-align: middle;\n",
       "    }\n",
       "\n",
       "    .dataframe tbody tr th {\n",
       "        vertical-align: top;\n",
       "    }\n",
       "\n",
       "    .dataframe thead th {\n",
       "        text-align: right;\n",
       "    }\n",
       "</style>\n",
       "<table border=\"1\" class=\"dataframe\">\n",
       "  <thead>\n",
       "    <tr style=\"text-align: right;\">\n",
       "      <th></th>\n",
       "      <th>ARLPCG</th>\n",
       "      <th>PCG</th>\n",
       "      <th>Const PCG</th>\n",
       "    </tr>\n",
       "  </thead>\n",
       "  <tbody>\n",
       "    <tr>\n",
       "      <th>-1.0</th>\n",
       "      <td>0.701536</td>\n",
       "      <td>0.726023</td>\n",
       "      <td>0.650781</td>\n",
       "    </tr>\n",
       "    <tr>\n",
       "      <th>-0.5</th>\n",
       "      <td>0.719238</td>\n",
       "      <td>0.753503</td>\n",
       "      <td>0.667705</td>\n",
       "    </tr>\n",
       "    <tr>\n",
       "      <th>0.0</th>\n",
       "      <td>0.730316</td>\n",
       "      <td>0.758374</td>\n",
       "      <td>0.693358</td>\n",
       "    </tr>\n",
       "    <tr>\n",
       "      <th>0.5</th>\n",
       "      <td>0.691243</td>\n",
       "      <td>0.719080</td>\n",
       "      <td>0.667566</td>\n",
       "    </tr>\n",
       "    <tr>\n",
       "      <th>1.0</th>\n",
       "      <td>0.767188</td>\n",
       "      <td>0.777189</td>\n",
       "      <td>0.729087</td>\n",
       "    </tr>\n",
       "  </tbody>\n",
       "</table>\n",
       "</div>"
      ],
      "text/plain": [
       "        ARLPCG       PCG  Const PCG\n",
       "-1.0  0.701536  0.726023   0.650781\n",
       "-0.5  0.719238  0.753503   0.667705\n",
       " 0.0  0.730316  0.758374   0.693358\n",
       " 0.5  0.691243  0.719080   0.667566\n",
       " 1.0  0.767188  0.777189   0.729087"
      ]
     },
     "execution_count": 198,
     "metadata": {},
     "output_type": "execute_result"
    }
   ],
   "source": [
    "pd.DataFrame(descr)"
   ]
  },
  {
   "cell_type": "code",
   "execution_count": 201,
   "id": "45f46abf",
   "metadata": {},
   "outputs": [
    {
     "data": {
      "text/html": [
       "<div>\n",
       "<style scoped>\n",
       "    .dataframe tbody tr th:only-of-type {\n",
       "        vertical-align: middle;\n",
       "    }\n",
       "\n",
       "    .dataframe tbody tr th {\n",
       "        vertical-align: top;\n",
       "    }\n",
       "\n",
       "    .dataframe thead th {\n",
       "        text-align: right;\n",
       "    }\n",
       "</style>\n",
       "<table border=\"1\" class=\"dataframe\">\n",
       "  <thead>\n",
       "    <tr style=\"text-align: right;\">\n",
       "      <th></th>\n",
       "      <th>ARLPCG</th>\n",
       "      <th>PCG</th>\n",
       "      <th>Const PCG</th>\n",
       "    </tr>\n",
       "  </thead>\n",
       "  <tbody>\n",
       "    <tr>\n",
       "      <th>-1.0</th>\n",
       "      <td>0.705556</td>\n",
       "      <td>0.728175</td>\n",
       "      <td>0.653137</td>\n",
       "    </tr>\n",
       "    <tr>\n",
       "      <th>-0.5</th>\n",
       "      <td>0.723529</td>\n",
       "      <td>0.755556</td>\n",
       "      <td>0.666667</td>\n",
       "    </tr>\n",
       "    <tr>\n",
       "      <th>0.0</th>\n",
       "      <td>0.733333</td>\n",
       "      <td>0.764286</td>\n",
       "      <td>0.700000</td>\n",
       "    </tr>\n",
       "    <tr>\n",
       "      <th>0.5</th>\n",
       "      <td>0.695346</td>\n",
       "      <td>0.723077</td>\n",
       "      <td>0.670588</td>\n",
       "    </tr>\n",
       "    <tr>\n",
       "      <th>1.0</th>\n",
       "      <td>0.771429</td>\n",
       "      <td>0.784615</td>\n",
       "      <td>0.733333</td>\n",
       "    </tr>\n",
       "  </tbody>\n",
       "</table>\n",
       "</div>"
      ],
      "text/plain": [
       "        ARLPCG       PCG  Const PCG\n",
       "-1.0  0.705556  0.728175   0.653137\n",
       "-0.5  0.723529  0.755556   0.666667\n",
       " 0.0  0.733333  0.764286   0.700000\n",
       " 0.5  0.695346  0.723077   0.670588\n",
       " 1.0  0.771429  0.784615   0.733333"
      ]
     },
     "execution_count": 201,
     "metadata": {},
     "output_type": "execute_result"
    }
   ],
   "source": [
    "descr1 = dict()\n",
    "\n",
    "# Create a table of the solving ratio\n",
    "descr1[models[0]] = {aux:ratio(ARLs, aux, average_method='median') for aux in aux_list} #ARLPCG\n",
    "descr1[models[1]] = {aux:ratio(PCGs, aux, average_method='median') for aux in aux_list} #PCG\n",
    "descr1[models[2]] = {aux: ratio(PCG_Const, aux,  average_method='median') for aux in aux_list} #Const PCG\n",
    "\n",
    "pd.DataFrame(descr1)"
   ]
  },
  {
   "cell_type": "markdown",
   "id": "418e7e2c",
   "metadata": {},
   "source": [
    "# Solving ratio with errors"
   ]
  },
  {
   "cell_type": "code",
   "execution_count": 213,
   "id": "681b20a4",
   "metadata": {},
   "outputs": [],
   "source": [
    "aux_list = [-1, -.5, 0, .5, 1]\n",
    "models = [\"ARLPCG\", \"PCG\", \"Const PCG\"]\n",
    "descrE = dict()\n",
    "\n",
    "# Create a table of the solving ratio\n",
    "descrE[models[0]] = {aux:ratioWithStd(ARLs, aux) for aux in aux_list} #ARLPCG\n",
    "descrE[models[1]] = {aux:ratioWithStd(PCGs, aux) for aux in aux_list} #PCG\n",
    "descrE[models[2]] = {aux: ratioWithStd(PCG_Const, aux) for aux in aux_list} #Const PCG\n",
    "descrE = pd.DataFrame(descrE)\n",
    "\n",
    "# Rename the axis\n",
    "descrE.rename_axis(\"$\\lambda$\", axis=1)"
   ]
  },
  {
   "cell_type": "code",
   "execution_count": 215,
   "id": "bac57e15",
   "metadata": {},
   "outputs": [
    {
     "name": "stdout",
     "output_type": "stream",
     "text": [
      "\\begin{tabular}{llll}\n",
      "\\toprule\n",
      " & ARLPCG & PCG & Const PCG \\\\\n",
      "\\midrule\n",
      "-1.000000 & 0.702$\\pm$0.087 & 0.726$\\pm$0.087 & 0.651$\\pm$0.089 \\\\\n",
      "-0.500000 & 0.719$\\pm$0.082 & 0.754$\\pm$0.093 & 0.668$\\pm$0.094 \\\\\n",
      "0.000000 & 0.730$\\pm$0.084 & 0.758$\\pm$0.091 & 0.693$\\pm$0.090 \\\\\n",
      "0.500000 & 0.691$\\pm$0.084 & 0.719$\\pm$0.092 & 0.668$\\pm$0.084 \\\\\n",
      "1.000000 & 0.767$\\pm$0.085 & 0.777$\\pm$0.098 & 0.729$\\pm$0.088 \\\\\n",
      "\\bottomrule\n",
      "\\end{tabular}\n",
      "\n"
     ]
    }
   ],
   "source": [
    "print(descrE.to_latex())"
   ]
  },
  {
   "cell_type": "code",
   "execution_count": null,
   "id": "a83d030e",
   "metadata": {},
   "outputs": [],
   "source": []
  }
 ],
 "metadata": {
  "kernelspec": {
   "display_name": "Python 3 (ipykernel)",
   "language": "python",
   "name": "python3"
  },
  "language_info": {
   "codemirror_mode": {
    "name": "ipython",
    "version": 3
   },
   "file_extension": ".py",
   "mimetype": "text/x-python",
   "name": "python",
   "nbconvert_exporter": "python",
   "pygments_lexer": "ipython3",
   "version": "3.9.2"
  }
 },
 "nbformat": 4,
 "nbformat_minor": 5
}
