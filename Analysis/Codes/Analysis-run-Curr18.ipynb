{
 "cells": [
  {
   "cell_type": "markdown",
   "id": "1bd0b3ff",
   "metadata": {},
   "source": [
    "# Analysis for the the one with curriculum learning"
   ]
  },
  {
   "cell_type": "code",
   "execution_count": 2,
   "id": "unlike-degree",
   "metadata": {
    "scrolled": true
   },
   "outputs": [],
   "source": [
    "import tbparse\n",
    "import pandas as pd\n",
    "import matplotlib.pyplot as plt\n",
    "import numpy as np"
   ]
  },
  {
   "cell_type": "markdown",
   "id": "southeast-selection",
   "metadata": {},
   "source": [
    "# For the training"
   ]
  },
  {
   "cell_type": "code",
   "execution_count": 3,
   "id": "convertible-dayton",
   "metadata": {
    "scrolled": true
   },
   "outputs": [
    {
     "data": {
      "text/plain": [
       "array(['Environment/Cumulative Reward', 'Environment/Episode Length',\n",
       "       'Environment/Lesson Number/aux_input',\n",
       "       'Environment/Lesson Number/n_obstacles', 'Losses/Policy Loss',\n",
       "       'Losses/Value Loss', 'Policy/Beta', 'Policy/Entropy',\n",
       "       'Policy/Epsilon', 'Policy/Extrinsic Reward',\n",
       "       'Policy/Extrinsic Value Estimate', 'Policy/Learning Rate', 'Score',\n",
       "       'distance', 'height', 'theta'], dtype=object)"
      ]
     },
     "execution_count": 3,
     "metadata": {},
     "output_type": "execute_result"
    }
   ],
   "source": [
    "from tbparse import SummaryReader\n",
    "Gen_ARL_train = r\"../../TrainerConfig/results/Curr18/Generator/\"\n",
    "Solver_ARL_train = r\"../../TrainerConfig/results/Curr18/Solver/\"\n",
    "reader_gen = SummaryReader(Gen_ARL_train)\n",
    "reader_solver = SummaryReader(Solver_ARL_train)\n",
    "df_solver = reader_solver.scalars\n",
    "df_gen = reader_gen.scalars\n",
    "pd.unique(df_gen[\"tag\"])\n",
    "# df_gen.head()\n",
    "# df_gen"
   ]
  },
  {
   "cell_type": "code",
   "execution_count": 3,
   "id": "60516175",
   "metadata": {},
   "outputs": [
    {
     "data": {
      "text/html": [
       "<div>\n",
       "<style scoped>\n",
       "    .dataframe tbody tr th:only-of-type {\n",
       "        vertical-align: middle;\n",
       "    }\n",
       "\n",
       "    .dataframe tbody tr th {\n",
       "        vertical-align: top;\n",
       "    }\n",
       "\n",
       "    .dataframe thead th {\n",
       "        text-align: right;\n",
       "    }\n",
       "</style>\n",
       "<table border=\"1\" class=\"dataframe\">\n",
       "  <thead>\n",
       "    <tr style=\"text-align: right;\">\n",
       "      <th></th>\n",
       "      <th>step</th>\n",
       "      <th>tag</th>\n",
       "      <th>value</th>\n",
       "    </tr>\n",
       "  </thead>\n",
       "  <tbody>\n",
       "    <tr>\n",
       "      <th>0</th>\n",
       "      <td>1000</td>\n",
       "      <td>Environment/Cumulative Reward</td>\n",
       "      <td>1.182363</td>\n",
       "    </tr>\n",
       "    <tr>\n",
       "      <th>1</th>\n",
       "      <td>2000</td>\n",
       "      <td>Environment/Cumulative Reward</td>\n",
       "      <td>1.892153</td>\n",
       "    </tr>\n",
       "    <tr>\n",
       "      <th>2</th>\n",
       "      <td>3000</td>\n",
       "      <td>Environment/Cumulative Reward</td>\n",
       "      <td>3.627184</td>\n",
       "    </tr>\n",
       "    <tr>\n",
       "      <th>3</th>\n",
       "      <td>4000</td>\n",
       "      <td>Environment/Cumulative Reward</td>\n",
       "      <td>4.152931</td>\n",
       "    </tr>\n",
       "    <tr>\n",
       "      <th>4</th>\n",
       "      <td>5000</td>\n",
       "      <td>Environment/Cumulative Reward</td>\n",
       "      <td>5.583900</td>\n",
       "    </tr>\n",
       "    <tr>\n",
       "      <th>...</th>\n",
       "      <td>...</td>\n",
       "      <td>...</td>\n",
       "      <td>...</td>\n",
       "    </tr>\n",
       "    <tr>\n",
       "      <th>5742</th>\n",
       "      <td>366000</td>\n",
       "      <td>theta</td>\n",
       "      <td>-0.038249</td>\n",
       "    </tr>\n",
       "    <tr>\n",
       "      <th>5743</th>\n",
       "      <td>367000</td>\n",
       "      <td>theta</td>\n",
       "      <td>0.992048</td>\n",
       "    </tr>\n",
       "    <tr>\n",
       "      <th>5744</th>\n",
       "      <td>368000</td>\n",
       "      <td>theta</td>\n",
       "      <td>1.707731</td>\n",
       "    </tr>\n",
       "    <tr>\n",
       "      <th>5745</th>\n",
       "      <td>369000</td>\n",
       "      <td>theta</td>\n",
       "      <td>-0.894614</td>\n",
       "    </tr>\n",
       "    <tr>\n",
       "      <th>5746</th>\n",
       "      <td>370000</td>\n",
       "      <td>theta</td>\n",
       "      <td>2.484794</td>\n",
       "    </tr>\n",
       "  </tbody>\n",
       "</table>\n",
       "<p>5747 rows × 3 columns</p>\n",
       "</div>"
      ],
      "text/plain": [
       "        step                            tag     value\n",
       "0       1000  Environment/Cumulative Reward  1.182363\n",
       "1       2000  Environment/Cumulative Reward  1.892153\n",
       "2       3000  Environment/Cumulative Reward  3.627184\n",
       "3       4000  Environment/Cumulative Reward  4.152931\n",
       "4       5000  Environment/Cumulative Reward  5.583900\n",
       "...      ...                            ...       ...\n",
       "5742  366000                          theta -0.038249\n",
       "5743  367000                          theta  0.992048\n",
       "5744  368000                          theta  1.707731\n",
       "5745  369000                          theta -0.894614\n",
       "5746  370000                          theta  2.484794\n",
       "\n",
       "[5747 rows x 3 columns]"
      ]
     },
     "execution_count": 3,
     "metadata": {},
     "output_type": "execute_result"
    }
   ],
   "source": [
    "df_gen"
   ]
  },
  {
   "cell_type": "code",
   "execution_count": 24,
   "id": "derived-pledge",
   "metadata": {
    "scrolled": false
   },
   "outputs": [
    {
     "data": {
      "image/png": "[encoded data removed]",
      "text/plain": [
       "<Figure size 800x600 with 1 Axes>"
      ]
     },
     "metadata": {},
     "output_type": "display_data"
    }
   ],
   "source": [
    "auxs = [0, .2, .4, 1]\n",
    "solver_cum_pd = df_solver.loc[df_solver[\"tag\"]==\"Score\", [\"step\", \"value\"]]\n",
    "fig = plt.figure(figsize=(8, 6))\n",
    "ax1 = fig.add_subplot(2,1,1)\n",
    "maxstep = 1.346e6\n",
    "#  Generator\n",
    "kwards = {'x':\"step\", 'y':\"value\", \"kind\":\"line\"}\n",
    "solver_cum_pd.plot(**kwards, linewidth=.5, ax=ax1, alpha=.7, label=\"Original\")\n",
    "#  Smoothed version\n",
    "solver_cum_pd.rolling(100).mean().plot(**kwards, linewidth=1, ax=ax1, label=\"Smoothed\")\n",
    "ax1.set_xlabel(\"Steps\")\n",
    "ax1.set_ylabel(\"Score\")\n",
    "ax1.set_xlim(0, maxstep)\n",
    "ax1.set_title(\"Solver\")\n",
    "fill_args = {'alpha':0.3}\n",
    "ymax = 15\n",
    "# Regions\n",
    "ax1.fill_betweenx([0,ymax],auxs[0]*maxstep,auxs[1]*maxstep, color='darkgreen', **fill_args,\n",
    "                  label=r\"$\\lambda=1$\")\n",
    "ax1.fill_betweenx([0,ymax],auxs[1]*maxstep,auxs[2]*maxstep, color='red', **fill_args,\n",
    "                  label=r\"$\\lambda=-1$\")\n",
    "ax1.fill_betweenx([0,ymax],auxs[2]*maxstep,auxs[3]*maxstep, color='magenta', **fill_args, \n",
    "                 label=r\"$\\lambda\\in[-1,1]$\")\n",
    "# ax1.fill_betweenx([0,ymax],auxs[3]*maxstep,auxs[4]*maxstep, color='red', **fill_args)\n",
    "ax1.legend(loc='center right',bbox_to_anchor=(1.4,.5))\n",
    "ax1.set_yticks([0,1,2,5,10,15])\n",
    "plt.grid()\n",
    "# Solver\n",
    "maxstep = 3.1e5\n",
    "ymax=20\n",
    "ymin=-1\n",
    "# Solver\n",
    "# ax2 = plt.subplot(2,1,2)\n",
    "# gen_cum_pd = df_gen.loc[df_gen[\"tag\"]==\"Environment/Cumulative Reward\", [\"step\", \"value\"]]\n",
    "# gen_cum_pd.plot(**kwards, ax=ax2, color='darkred', linewidth=.7, label=\"\")\n",
    "# ax2.set_xlabel(\"Steps\")\n",
    "# ax2.set_ylabel(\"Cumulative reward\")\n",
    "# ax2.set_xlim(0, 3e5)\n",
    "# # ax2.legend(\"\", frameon=False)\n",
    "\n",
    "# ax2.set_title(\"Generator\")\n",
    "# # Regions\n",
    "# ax2.fill_betweenx([ymin,ymax],auxs[0]*maxstep,auxs[1]*maxstep, color='darkgreen', **fill_args,\n",
    "#                   label=r\"$\\lambda=1$\")\n",
    "# ax2.fill_betweenx([ymin,ymax],auxs[1]*maxstep,auxs[2]*maxstep, color='red', **fill_args,\n",
    "#                   label=r\"$\\lambda=-1$\")\n",
    "# ax2.fill_betweenx([ymin,ymax],auxs[2]*maxstep,auxs[3]*maxstep, color='darkgreen', **fill_args,\n",
    "#                  label=r\"$\\lambda\\in[-1,1]$\")\n",
    "# # ax2.fill_betweenx([ymin,ymax],auxs[3]*maxstep,auxs[4]*maxstep, color='red', **fill_args)\n",
    "# ax2.legend(loc='center right',bbox_to_anchor=(1.4,.5))\n",
    "plt.tight_layout()\n",
    "plt.savefig(\"images/Solver_Curr18.pdf\")"
   ]
  },
  {
   "cell_type": "markdown",
   "id": "fancy-growth",
   "metadata": {},
   "source": [
    "# For test"
   ]
  },
  {
   "cell_type": "code",
   "execution_count": 5,
   "id": "43b5f0f2",
   "metadata": {},
   "outputs": [],
   "source": [
    "from tbparse import SummaryReader"
   ]
  },
  {
   "cell_type": "code",
   "execution_count": 32,
   "id": "20ed39c9",
   "metadata": {},
   "outputs": [],
   "source": [
    "# Get the scores datas from tensorboard events if the events are separated for each aux input\n",
    "# Needs the tbparse module\n",
    "def get_score(path, aux_input, step_start=100000):\n",
    "    reader = SummaryReader(path)\n",
    "    dfScore = reader.scalars\n",
    "    Score = dfScore.loc[dfScore[\"tag\"]=='Score',['step', 'value']]\n",
    "    Score.rename(columns = {'value':'Score'}, inplace=True)\n",
    "    Score[\"aux_input\"] = aux_input\n",
    "    Score = Score.loc[Score['step'] > step_start,:]\n",
    "    return Score\n",
    "\n",
    "# Get the scores datas from tensorboard events if the events are combined for all aux inputs\n",
    "# Needs the tbparse module\n",
    "def get_score_combined(path, step_end=5e6):\n",
    "    reader = SummaryReader(path)\n",
    "    dfScore = reader.scalars\n",
    "    # One big Dataframe for all the aux_input\n",
    "    Score = dfScore.loc[dfScore[\"tag\"]=='Score',['step', 'value']]\n",
    "    Score.rename(columns = {'value':'Score'}, inplace=True)\n",
    "    auxs = [1, 0.5, 0, -0.5, -1] # order of the aux input in the event file, changes every 1e6 steps\n",
    "    \n",
    "    Score[\"aux_input\"] = 1\n",
    "    Scores = dict() # A dictionary of Dataframe\n",
    "    # Set the aux_input column for the corresponding steps\n",
    "    for i, au in enumerate(auxs):\n",
    "        # assign an aux_input for the big DataFrame\n",
    "        Score.loc[Score[\"step\"] > 1e6*i, \"aux_input\"] = au\n",
    "        #Assign one dataFrame for each aux_input\n",
    "        Scores[au] = Score.loc[Score[\"step\"] > 1e6*i, ]\n",
    "        \n",
    "    Score = Score.loc[Score['step'] <= step_end,]\n",
    "    return Score, Scores"
   ]
  },
  {
   "cell_type": "code",
   "execution_count": 33,
   "id": "9e0f22ea",
   "metadata": {},
   "outputs": [],
   "source": [
    "ARL  = dict()\n",
    "PCG  = dict()\n",
    "PCG_Const = dict()\n",
    "fixed = dict()\n",
    "for aux in [1, 0.5, 0, -0.5, -1]:\n",
    "    path_ARL = f\"../../TrainerConfig/results/InferCurr42d_{aux}/Solver/\"\n",
    "    ARL[aux] = get_score(path_ARL, aux)\n",
    "    \n",
    "    path_PCG = f\"../../TrainerConfig/results/InferPCG_2_aux_{aux}/Solver/\"\n",
    "    PCG[aux] = get_score(path_PCG, aux)\n",
    "    \n",
    "    path_constPCG = f\"../../TrainerConfig/results/InferPCG_Const_1_aux_{aux}/Solver/\"\n",
    "    PCG_Const[aux] = get_score(path_constPCG, aux)\n",
    "    \n",
    "# the data of fixed environment was outputed on the same event for all the aux_input    \n",
    "path_fixed = f\"../../TrainerConfig/results/InferFixed_2/Solver\"\n",
    "_, fixed = get_score_combined(path_fixed)"
   ]
  },
  {
   "cell_type": "markdown",
   "id": "b8f2730d",
   "metadata": {},
   "source": [
    "### Box plot of the scores for ARLPCG"
   ]
  },
  {
   "cell_type": "code",
   "execution_count": 34,
   "id": "1f12d164",
   "metadata": {
    "scrolled": false
   },
   "outputs": [
    {
     "data": {
      "text/plain": [
       "Text(0.5, 1.0, '')"
      ]
     },
     "execution_count": 34,
     "metadata": {},
     "output_type": "execute_result"
    },
    {
     "data": {
      "image/png": "[encoded data removed]",
      "text/plain": [
       "<Figure size 640x480 with 1 Axes>"
      ]
     },
     "metadata": {},
     "output_type": "display_data"
    }
   ],
   "source": [
    "ARLs = pd.concat([ARL[d] for d in ARL]) # Combine the DataFrames\n",
    "grouped = ARLs.groupby('aux_input')\n",
    "fig = plt.figure()\n",
    "ax = fig.gca()\n",
    "ax.grid()\n",
    "# bp = grouped.boxplot(column=[\"Score\"], subplots=False, ax=ax)\n",
    "ARLs.loc[:,[\"Score\", \"aux_input\"]].boxplot(by=\"aux_input\", ax=ax)\n",
    "ax.set_xlabel(r\"$\\lambda$\")\n",
    "ax.set_ylabel(\"Score\")\n",
    "plt.suptitle(\"\")\n",
    "plt.title(\"\")"
   ]
  },
  {
   "cell_type": "code",
   "execution_count": 35,
   "id": "fa91a65e",
   "metadata": {
    "scrolled": false
   },
   "outputs": [],
   "source": [
    "def boxplots(df_dict, suptitle=\"\", title=\"\", ax=None, **kwargs):\n",
    "    df_dicts = pd.concat([df_dict[d] for d in df_dict]) # Combine the DataFrames\n",
    "    grouped = df_dicts.groupby('aux_input')\n",
    "    \n",
    "    # new figure\n",
    "    if(ax == None):\n",
    "        fig = plt.figure()\n",
    "        ax = fig.gca()\n",
    "        ax.grid()\n",
    "    \n",
    "    # box plot by aux_input\n",
    "    df_dicts.loc[:,[\"Score\", \"aux_input\"]].boxplot(by=\"aux_input\", ax=ax, **kwargs)\n",
    "    ax.set_xlabel(r\"$\\lambda$\")\n",
    "    ax.set_ylabel(\"Score\")\n",
    "#     ax.suptitle.set_text(suptitle)\n",
    "    ax.title.set_text(title)"
   ]
  },
  {
   "cell_type": "code",
   "execution_count": 38,
   "id": "a074c328",
   "metadata": {
    "scrolled": false
   },
   "outputs": [
    {
     "data": {
      "image/png": "[encoded data removed]",
      "text/plain": [
       "<Figure size 640x480 with 4 Axes>"
      ]
     },
     "metadata": {},
     "output_type": "display_data"
    }
   ],
   "source": [
    "n = 4\n",
    "fig = plt.figure()\n",
    "axs = []\n",
    "[axs.append(plt.subplot(1,n,i)) for i in range(1,n+1)]\n",
    "# axs.append(plt.subplot(1,3,1))\n",
    "# axs.append(plt.subplot(1,3,2))\n",
    "# axs.append(plt.subplot(1,3,3))\n",
    "\n",
    "for ax in axs:\n",
    "    ax.set_ylim(0,10)\n",
    "\n",
    "boxplots(ARL, ax=axs[0], title=\"ARLPCG\")\n",
    "boxplots(PCG, ax=axs[1], title=\"Domain randomization\")\n",
    "boxplots(PCG_Const, ax=axs[2], title=\"Similar to the original\")\n",
    "boxplots(fixed, ax=axs[3], title=\"Fixed environment\")\n",
    "plt.suptitle(\"\")\n",
    "plt.tight_layout()"
   ]
  },
  {
   "cell_type": "code",
   "execution_count": 39,
   "id": "b36226e2",
   "metadata": {
    "scrolled": false
   },
   "outputs": [
    {
     "data": {
      "text/plain": [
       "step         1.643000e+06\n",
       "Score        7.290867e+00\n",
       "aux_input    1.000000e+00\n",
       "dtype: float64"
      ]
     },
     "execution_count": 39,
     "metadata": {},
     "output_type": "execute_result"
    }
   ],
   "source": [
    "PCG_Const[1].mean()"
   ]
  },
  {
   "cell_type": "code",
   "execution_count": 40,
   "id": "7b6a0aba",
   "metadata": {
    "scrolled": true
   },
   "outputs": [
    {
     "data": {
      "text/plain": [
       "step         695500.000000\n",
       "Score             7.771889\n",
       "aux_input         1.000000\n",
       "dtype: float64"
      ]
     },
     "execution_count": 40,
     "metadata": {},
     "output_type": "execute_result"
    }
   ],
   "source": [
    "PCG[1].mean()"
   ]
  },
  {
   "cell_type": "code",
   "execution_count": 41,
   "id": "65ed9c56",
   "metadata": {
    "scrolled": true
   },
   "outputs": [
    {
     "data": {
      "text/plain": [
       "step         1.555500e+06\n",
       "Score        7.671879e+00\n",
       "aux_input    1.000000e+00\n",
       "dtype: float64"
      ]
     },
     "execution_count": 41,
     "metadata": {},
     "output_type": "execute_result"
    }
   ],
   "source": [
    "ARL[1].mean()"
   ]
  },
  {
   "cell_type": "code",
   "execution_count": 49,
   "id": "edd10f41",
   "metadata": {},
   "outputs": [],
   "source": [
    "def means(df_list, tag=\"Score\"):\n",
    "    value = []\n",
    "    for d in df_list:\n",
    "        value.append(d[tag].mean())\n",
    "    return np.array(value)\n",
    "    \n",
    "def medians(df_list, tag=\"Score\"):\n",
    "    value = []\n",
    "    for d in df_list:\n",
    "        value.append(d[tag].median())\n",
    "    return np.array(value)\n",
    "\n",
    "def std(df_list, tag=\"Score\"):\n",
    "    value = []\n",
    "    for d in df_list:\n",
    "        value.append(d[tag].std())\n",
    "    return np.array(value)\n",
    "\n",
    "def ratio(df, aux, average_method = \"mean\"):\n",
    "    if(average_method == \"mean\"):\n",
    "        return df[aux][\"Score\"].mean() / 10\n",
    "    elif(average_method == \"median\"):\n",
    "        return df[aux][\"Score\"].median() / 10\n",
    "    else:\n",
    "        return df[aux][\"Score\"].mean() / 10\n",
    "    \n",
    "def ratioWithStd(df, aux, average_method = \"mean\"):\n",
    "    std = df[aux][\"Score\"].std() / 10\n",
    "    if(average_method == \"mean\"):\n",
    "        av = df[aux][\"Score\"].mean() / 10\n",
    "        return f\"{av:.4f}$\\pm${std:.3f}\"\n",
    "    elif(average_method == \"median\"):\n",
    "        av = df[aux][\"Score\"].median() / 10\n",
    "        return f\"{av:.4f}$\\pm${std:.3f}\""
   ]
  },
  {
   "cell_type": "markdown",
   "id": "40219ec5",
   "metadata": {},
   "source": [
    "# Solving ratio without error"
   ]
  },
  {
   "cell_type": "code",
   "execution_count": 45,
   "id": "04b50453",
   "metadata": {
    "scrolled": true
   },
   "outputs": [],
   "source": [
    "aux_list = [-1, -.5, 0, .5, 1]\n",
    "models = [\"ARLPCG\", \"Domain randomization\", \"Original game\", \"Fixed environment\"]\n",
    "descr = dict()\n",
    "\n",
    "# Create a table of the solving ratio\n",
    "descr[models[0]] = {aux:ratio(ARL, aux) for aux in aux_list} #ARLPCG\n",
    "descr[models[1]] = {aux:ratio(PCG, aux) for aux in aux_list} #PCG\n",
    "descr[models[2]] = {aux: ratio(PCG_Const, aux) for aux in aux_list} #Const PCG\n",
    "descr[models[3]] = {aux: ratio(fixed, aux) for aux in aux_list} # fixed"
   ]
  },
  {
   "cell_type": "code",
   "execution_count": 46,
   "id": "b8f8c93d",
   "metadata": {},
   "outputs": [
    {
     "data": {
      "text/html": [
       "<div>\n",
       "<style scoped>\n",
       "    .dataframe tbody tr th:only-of-type {\n",
       "        vertical-align: middle;\n",
       "    }\n",
       "\n",
       "    .dataframe tbody tr th {\n",
       "        vertical-align: top;\n",
       "    }\n",
       "\n",
       "    .dataframe thead th {\n",
       "        text-align: right;\n",
       "    }\n",
       "</style>\n",
       "<table border=\"1\" class=\"dataframe\">\n",
       "  <thead>\n",
       "    <tr style=\"text-align: right;\">\n",
       "      <th></th>\n",
       "      <th>ARLPCG</th>\n",
       "      <th>Domain randomization</th>\n",
       "      <th>Original game</th>\n",
       "      <th>Fixed environment</th>\n",
       "    </tr>\n",
       "  </thead>\n",
       "  <tbody>\n",
       "    <tr>\n",
       "      <th>-1.0</th>\n",
       "      <td>0.701536</td>\n",
       "      <td>0.726023</td>\n",
       "      <td>0.650781</td>\n",
       "      <td>0.222627</td>\n",
       "    </tr>\n",
       "    <tr>\n",
       "      <th>-0.5</th>\n",
       "      <td>0.719238</td>\n",
       "      <td>0.753503</td>\n",
       "      <td>0.667705</td>\n",
       "      <td>0.222340</td>\n",
       "    </tr>\n",
       "    <tr>\n",
       "      <th>0.0</th>\n",
       "      <td>0.730316</td>\n",
       "      <td>0.758374</td>\n",
       "      <td>0.693358</td>\n",
       "      <td>0.222260</td>\n",
       "    </tr>\n",
       "    <tr>\n",
       "      <th>0.5</th>\n",
       "      <td>0.691243</td>\n",
       "      <td>0.719080</td>\n",
       "      <td>0.667566</td>\n",
       "      <td>0.222111</td>\n",
       "    </tr>\n",
       "    <tr>\n",
       "      <th>1.0</th>\n",
       "      <td>0.767188</td>\n",
       "      <td>0.777189</td>\n",
       "      <td>0.729087</td>\n",
       "      <td>0.221891</td>\n",
       "    </tr>\n",
       "  </tbody>\n",
       "</table>\n",
       "</div>"
      ],
      "text/plain": [
       "        ARLPCG  Domain randomization  Original game  Fixed environment\n",
       "-1.0  0.701536              0.726023       0.650781           0.222627\n",
       "-0.5  0.719238              0.753503       0.667705           0.222340\n",
       " 0.0  0.730316              0.758374       0.693358           0.222260\n",
       " 0.5  0.691243              0.719080       0.667566           0.222111\n",
       " 1.0  0.767188              0.777189       0.729087           0.221891"
      ]
     },
     "execution_count": 46,
     "metadata": {},
     "output_type": "execute_result"
    }
   ],
   "source": [
    "pd.DataFrame(descr)"
   ]
  },
  {
   "cell_type": "code",
   "execution_count": 17,
   "id": "ee86e3de",
   "metadata": {},
   "outputs": [
    {
     "data": {
      "text/html": [
       "<div>\n",
       "<style scoped>\n",
       "    .dataframe tbody tr th:only-of-type {\n",
       "        vertical-align: middle;\n",
       "    }\n",
       "\n",
       "    .dataframe tbody tr th {\n",
       "        vertical-align: top;\n",
       "    }\n",
       "\n",
       "    .dataframe thead th {\n",
       "        text-align: right;\n",
       "    }\n",
       "</style>\n",
       "<table border=\"1\" class=\"dataframe\">\n",
       "  <thead>\n",
       "    <tr style=\"text-align: right;\">\n",
       "      <th></th>\n",
       "      <th>ARLPCG</th>\n",
       "      <th>PCG</th>\n",
       "      <th>Const PCG</th>\n",
       "    </tr>\n",
       "  </thead>\n",
       "  <tbody>\n",
       "    <tr>\n",
       "      <th>-1.0</th>\n",
       "      <td>0.705556</td>\n",
       "      <td>0.728175</td>\n",
       "      <td>0.653137</td>\n",
       "    </tr>\n",
       "    <tr>\n",
       "      <th>-0.5</th>\n",
       "      <td>0.723529</td>\n",
       "      <td>0.755556</td>\n",
       "      <td>0.666667</td>\n",
       "    </tr>\n",
       "    <tr>\n",
       "      <th>0.0</th>\n",
       "      <td>0.733333</td>\n",
       "      <td>0.764286</td>\n",
       "      <td>0.700000</td>\n",
       "    </tr>\n",
       "    <tr>\n",
       "      <th>0.5</th>\n",
       "      <td>0.695346</td>\n",
       "      <td>0.723077</td>\n",
       "      <td>0.670588</td>\n",
       "    </tr>\n",
       "    <tr>\n",
       "      <th>1.0</th>\n",
       "      <td>0.771429</td>\n",
       "      <td>0.784615</td>\n",
       "      <td>0.733333</td>\n",
       "    </tr>\n",
       "  </tbody>\n",
       "</table>\n",
       "</div>"
      ],
      "text/plain": [
       "        ARLPCG       PCG  Const PCG\n",
       "-1.0  0.705556  0.728175   0.653137\n",
       "-0.5  0.723529  0.755556   0.666667\n",
       " 0.0  0.733333  0.764286   0.700000\n",
       " 0.5  0.695346  0.723077   0.670588\n",
       " 1.0  0.771429  0.784615   0.733333"
      ]
     },
     "execution_count": 17,
     "metadata": {},
     "output_type": "execute_result"
    }
   ],
   "source": [
    "descr1 = dict()\n",
    "\n",
    "# Create a table of the solving ratio\n",
    "descr1[models[0]] = {aux:ratio(ARL, aux, average_method='median') for aux in aux_list} #ARLPCG\n",
    "descr1[models[1]] = {aux:ratio(PCG, aux, average_method='median') for aux in aux_list} #PCG\n",
    "descr1[models[2]] = {aux: ratio(PCG_Const, aux,  average_method='median') for aux in aux_list} #Const PCG\n",
    "\n",
    "pd.DataFrame(descr1)"
   ]
  },
  {
   "cell_type": "markdown",
   "id": "412b3efc",
   "metadata": {},
   "source": [
    "# Solving ratio with errors"
   ]
  },
  {
   "cell_type": "code",
   "execution_count": 50,
   "id": "e3afc914",
   "metadata": {},
   "outputs": [],
   "source": [
    "aux_list = [-1, -.5, 0, .5, 1]\n",
    "models = [\"ARLPCG\", \"Domain randomization\", \"Original game\", \"Fixed environment\"]\n",
    "descrE = dict()\n",
    "\n",
    "# Create a table of the solving ratio\n",
    "descrE[models[0]] = {aux:ratioWithStd(ARL, aux) for aux in aux_list} #ARLPCG\n",
    "descrE[models[1]] = {aux:ratioWithStd(PCG, aux) for aux in aux_list} #PCG\n",
    "descrE[models[2]] = {aux: ratioWithStd(PCG_Const, aux) for aux in aux_list} #Const PCG\n",
    "descrE[models[3]] = {aux: ratioWithStd(fixed, aux) for aux in aux_list} # fixed\n",
    "descrE = pd.DataFrame(descrE)\n",
    "\n",
    "# Rename the axis\n",
    "descrE.rename_axis(\"$\\lambda$\", axis=1, inplace=True)"
   ]
  },
  {
   "cell_type": "code",
   "execution_count": 53,
   "id": "8ae21adb",
   "metadata": {},
   "outputs": [
    {
     "data": {
      "text/html": [
       "<div>\n",
       "<style scoped>\n",
       "    .dataframe tbody tr th:only-of-type {\n",
       "        vertical-align: middle;\n",
       "    }\n",
       "\n",
       "    .dataframe tbody tr th {\n",
       "        vertical-align: top;\n",
       "    }\n",
       "\n",
       "    .dataframe thead th {\n",
       "        text-align: right;\n",
       "    }\n",
       "</style>\n",
       "<table border=\"1\" class=\"dataframe\">\n",
       "  <thead>\n",
       "    <tr style=\"text-align: right;\">\n",
       "      <th>$\\lambda$</th>\n",
       "      <th>ARLPCG</th>\n",
       "      <th>Domain randomization</th>\n",
       "      <th>Original game</th>\n",
       "      <th>Fixed environment</th>\n",
       "    </tr>\n",
       "  </thead>\n",
       "  <tbody>\n",
       "    <tr>\n",
       "      <th>-1.0</th>\n",
       "      <td>0.7015$\\pm$0.087</td>\n",
       "      <td>0.7260$\\pm$0.087</td>\n",
       "      <td>0.6508$\\pm$0.089</td>\n",
       "      <td>0.2226$\\pm$0.033</td>\n",
       "    </tr>\n",
       "    <tr>\n",
       "      <th>-0.5</th>\n",
       "      <td>0.7192$\\pm$0.082</td>\n",
       "      <td>0.7535$\\pm$0.093</td>\n",
       "      <td>0.6677$\\pm$0.094</td>\n",
       "      <td>0.2223$\\pm$0.033</td>\n",
       "    </tr>\n",
       "    <tr>\n",
       "      <th>0.0</th>\n",
       "      <td>0.7303$\\pm$0.084</td>\n",
       "      <td>0.7584$\\pm$0.091</td>\n",
       "      <td>0.6934$\\pm$0.090</td>\n",
       "      <td>0.2223$\\pm$0.033</td>\n",
       "    </tr>\n",
       "    <tr>\n",
       "      <th>0.5</th>\n",
       "      <td>0.6912$\\pm$0.084</td>\n",
       "      <td>0.7191$\\pm$0.092</td>\n",
       "      <td>0.6676$\\pm$0.084</td>\n",
       "      <td>0.2221$\\pm$0.033</td>\n",
       "    </tr>\n",
       "    <tr>\n",
       "      <th>1.0</th>\n",
       "      <td>0.7672$\\pm$0.085</td>\n",
       "      <td>0.7772$\\pm$0.098</td>\n",
       "      <td>0.7291$\\pm$0.088</td>\n",
       "      <td>0.2219$\\pm$0.033</td>\n",
       "    </tr>\n",
       "  </tbody>\n",
       "</table>\n",
       "</div>"
      ],
      "text/plain": [
       "$\\lambda$            ARLPCG Domain randomization     Original game   \n",
       "-1.0       0.7015$\\pm$0.087     0.7260$\\pm$0.087  0.6508$\\pm$0.089  \\\n",
       "-0.5       0.7192$\\pm$0.082     0.7535$\\pm$0.093  0.6677$\\pm$0.094   \n",
       " 0.0       0.7303$\\pm$0.084     0.7584$\\pm$0.091  0.6934$\\pm$0.090   \n",
       " 0.5       0.6912$\\pm$0.084     0.7191$\\pm$0.092  0.6676$\\pm$0.084   \n",
       " 1.0       0.7672$\\pm$0.085     0.7772$\\pm$0.098  0.7291$\\pm$0.088   \n",
       "\n",
       "$\\lambda$ Fixed environment  \n",
       "-1.0       0.2226$\\pm$0.033  \n",
       "-0.5       0.2223$\\pm$0.033  \n",
       " 0.0       0.2223$\\pm$0.033  \n",
       " 0.5       0.2221$\\pm$0.033  \n",
       " 1.0       0.2219$\\pm$0.033  "
      ]
     },
     "execution_count": 53,
     "metadata": {},
     "output_type": "execute_result"
    }
   ],
   "source": [
    "descrE"
   ]
  },
  {
   "cell_type": "code",
   "execution_count": 54,
   "id": "76598255",
   "metadata": {},
   "outputs": [
    {
     "name": "stdout",
     "output_type": "stream",
     "text": [
      "\\begin{tabular}{lllll}\n",
      "\\toprule\n",
      "$\\lambda$ & ARLPCG & Domain randomization & Original game & Fixed environment \\\\\n",
      "\\midrule\n",
      "-1.000000 & 0.7015$\\pm$0.087 & 0.7260$\\pm$0.087 & 0.6508$\\pm$0.089 & 0.2226$\\pm$0.033 \\\\\n",
      "-0.500000 & 0.7192$\\pm$0.082 & 0.7535$\\pm$0.093 & 0.6677$\\pm$0.094 & 0.2223$\\pm$0.033 \\\\\n",
      "0.000000 & 0.7303$\\pm$0.084 & 0.7584$\\pm$0.091 & 0.6934$\\pm$0.090 & 0.2223$\\pm$0.033 \\\\\n",
      "0.500000 & 0.6912$\\pm$0.084 & 0.7191$\\pm$0.092 & 0.6676$\\pm$0.084 & 0.2221$\\pm$0.033 \\\\\n",
      "1.000000 & 0.7672$\\pm$0.085 & 0.7772$\\pm$0.098 & 0.7291$\\pm$0.088 & 0.2219$\\pm$0.033 \\\\\n",
      "\\bottomrule\n",
      "\\end{tabular}\n",
      "\n"
     ]
    }
   ],
   "source": [
    "print(descrE.to_latex())"
   ]
  },
  {
   "cell_type": "code",
   "execution_count": null,
   "id": "f7225d41",
   "metadata": {},
   "outputs": [],
   "source": []
  }
 ],
 "metadata": {
  "kernelspec": {
   "display_name": "Python 3 (ipykernel)",
   "language": "python",
   "name": "python3"
  },
  "language_info": {
   "codemirror_mode": {
    "name": "ipython",
    "version": 3
   },
   "file_extension": ".py",
   "mimetype": "text/x-python",
   "name": "python",
   "nbconvert_exporter": "python",
   "pygments_lexer": "ipython3",
   "version": "3.9.2"
  }
 },
 "nbformat": 4,
 "nbformat_minor": 5
}
