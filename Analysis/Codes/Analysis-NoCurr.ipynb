{
 "cells": [
  {
   "cell_type": "markdown",
   "id": "1bd0b3ff",
   "metadata": {},
   "source": [
    "# Analysis for the the one with curriculum learning"
   ]
  },
  {
   "cell_type": "code",
   "execution_count": 1,
   "id": "unlike-degree",
   "metadata": {
    "scrolled": true
   },
   "outputs": [],
   "source": [
    "import tbparse\n",
    "import pandas as pd\n",
    "import matplotlib.pyplot as plt\n",
    "import numpy as np"
   ]
  },
  {
   "cell_type": "markdown",
   "id": "southeast-selection",
   "metadata": {},
   "source": [
    "# For the training"
   ]
  },
  {
   "cell_type": "code",
   "execution_count": 2,
   "id": "convertible-dayton",
   "metadata": {
    "scrolled": true
   },
   "outputs": [
    {
     "data": {
      "text/plain": [
       "array(['Environment/Cumulative Reward', 'Environment/Episode Length',\n",
       "       'Environment/Lesson Number/aux_input',\n",
       "       'Environment/Lesson Number/n_obstacles',\n",
       "       'Losses/Curiosity Forward Loss', 'Losses/Curiosity Inverse Loss',\n",
       "       'Losses/Policy Loss', 'Losses/Value Loss', 'Policy/Beta',\n",
       "       'Policy/Curiosity Reward', 'Policy/Curiosity Value Estimate',\n",
       "       'Policy/Entropy', 'Policy/Epsilon', 'Policy/Extrinsic Reward',\n",
       "       'Policy/Extrinsic Value Estimate', 'Policy/Learning Rate', 'Score',\n",
       "       'Y_difference', 'distance', 'height', 'theta'], dtype=object)"
      ]
     },
     "execution_count": 2,
     "metadata": {},
     "output_type": "execute_result"
    }
   ],
   "source": [
    "from tbparse import SummaryReader\n",
    "Gen_ARL_train = r\"../../TrainerConfig/results/NoCurr42d/Generator/\"\n",
    "Solver_ARL_train = r\"../../TrainerConfig/results/NoCurr42d/Solver/\"\n",
    "reader_gen = SummaryReader(Gen_ARL_train)\n",
    "reader_solver = SummaryReader(Solver_ARL_train)\n",
    "df_solver = reader_solver.scalars\n",
    "df_gen = reader_gen.scalars\n",
    "pd.unique(df_gen[\"tag\"])\n",
    "# df_gen.head()\n",
    "# df_gen"
   ]
  },
  {
   "cell_type": "code",
   "execution_count": 3,
   "id": "60516175",
   "metadata": {},
   "outputs": [
    {
     "data": {
      "text/html": [
       "<div>\n",
       "<style scoped>\n",
       "    .dataframe tbody tr th:only-of-type {\n",
       "        vertical-align: middle;\n",
       "    }\n",
       "\n",
       "    .dataframe tbody tr th {\n",
       "        vertical-align: top;\n",
       "    }\n",
       "\n",
       "    .dataframe thead th {\n",
       "        text-align: right;\n",
       "    }\n",
       "</style>\n",
       "<table border=\"1\" class=\"dataframe\">\n",
       "  <thead>\n",
       "    <tr style=\"text-align: right;\">\n",
       "      <th></th>\n",
       "      <th>step</th>\n",
       "      <th>tag</th>\n",
       "      <th>value</th>\n",
       "    </tr>\n",
       "  </thead>\n",
       "  <tbody>\n",
       "    <tr>\n",
       "      <th>0</th>\n",
       "      <td>1000</td>\n",
       "      <td>Environment/Cumulative Reward</td>\n",
       "      <td>1.219306</td>\n",
       "    </tr>\n",
       "    <tr>\n",
       "      <th>1</th>\n",
       "      <td>2000</td>\n",
       "      <td>Environment/Cumulative Reward</td>\n",
       "      <td>2.455952</td>\n",
       "    </tr>\n",
       "    <tr>\n",
       "      <th>2</th>\n",
       "      <td>3000</td>\n",
       "      <td>Environment/Cumulative Reward</td>\n",
       "      <td>4.625588</td>\n",
       "    </tr>\n",
       "    <tr>\n",
       "      <th>3</th>\n",
       "      <td>4000</td>\n",
       "      <td>Environment/Cumulative Reward</td>\n",
       "      <td>5.909925</td>\n",
       "    </tr>\n",
       "    <tr>\n",
       "      <th>4</th>\n",
       "      <td>5000</td>\n",
       "      <td>Environment/Cumulative Reward</td>\n",
       "      <td>7.148304</td>\n",
       "    </tr>\n",
       "    <tr>\n",
       "      <th>...</th>\n",
       "      <td>...</td>\n",
       "      <td>...</td>\n",
       "      <td>...</td>\n",
       "    </tr>\n",
       "    <tr>\n",
       "      <th>5490</th>\n",
       "      <td>346000</td>\n",
       "      <td>theta</td>\n",
       "      <td>1.757481</td>\n",
       "    </tr>\n",
       "    <tr>\n",
       "      <th>5491</th>\n",
       "      <td>347000</td>\n",
       "      <td>theta</td>\n",
       "      <td>1.932587</td>\n",
       "    </tr>\n",
       "    <tr>\n",
       "      <th>5492</th>\n",
       "      <td>348000</td>\n",
       "      <td>theta</td>\n",
       "      <td>1.573143</td>\n",
       "    </tr>\n",
       "    <tr>\n",
       "      <th>5493</th>\n",
       "      <td>349000</td>\n",
       "      <td>theta</td>\n",
       "      <td>2.357681</td>\n",
       "    </tr>\n",
       "    <tr>\n",
       "      <th>5494</th>\n",
       "      <td>350000</td>\n",
       "      <td>theta</td>\n",
       "      <td>0.369253</td>\n",
       "    </tr>\n",
       "  </tbody>\n",
       "</table>\n",
       "<p>5495 rows × 3 columns</p>\n",
       "</div>"
      ],
      "text/plain": [
       "        step                            tag     value\n",
       "0       1000  Environment/Cumulative Reward  1.219306\n",
       "1       2000  Environment/Cumulative Reward  2.455952\n",
       "2       3000  Environment/Cumulative Reward  4.625588\n",
       "3       4000  Environment/Cumulative Reward  5.909925\n",
       "4       5000  Environment/Cumulative Reward  7.148304\n",
       "...      ...                            ...       ...\n",
       "5490  346000                          theta  1.757481\n",
       "5491  347000                          theta  1.932587\n",
       "5492  348000                          theta  1.573143\n",
       "5493  349000                          theta  2.357681\n",
       "5494  350000                          theta  0.369253\n",
       "\n",
       "[5495 rows x 3 columns]"
      ]
     },
     "execution_count": 3,
     "metadata": {},
     "output_type": "execute_result"
    }
   ],
   "source": [
    "df_gen"
   ]
  },
  {
   "cell_type": "code",
   "execution_count": 4,
   "id": "derived-pledge",
   "metadata": {
    "scrolled": false
   },
   "outputs": [
    {
     "data": {
      "image/png": "[encoded data removed]",
      "text/plain": [
       "<Figure size 640x480 with 2 Axes>"
      ]
     },
     "metadata": {},
     "output_type": "display_data"
    }
   ],
   "source": [
    "auxs = [0, .3, .5, .75, 1]\n",
    "solver_cum_pd = df_solver.loc[df_solver[\"tag\"]==\"Environment/Cumulative Reward\", [\"step\", \"value\"]]\n",
    "ax1 = plt.subplot(2,1,1)\n",
    "\n",
    "maxstep = 2.85e6\n",
    "#  Generator\n",
    "kwards = {'x':\"step\", 'y':\"value\", \"kind\":\"line\"}\n",
    "solver_cum_pd.plot(**kwards, linewidth=.5, ax=ax1, alpha=.5, label=\"Original\")\n",
    "#  Smoothed version\n",
    "solver_cum_pd.rolling(100).mean().plot(**kwards, linewidth=1, ax=ax1, label=\"Smoothed\")\n",
    "ax1.set_xlabel(\"Steps\")\n",
    "ax1.set_ylabel(\"Cumulative reward\")\n",
    "ax1.set_xlim(0, maxstep)\n",
    "ax1.set_title(\"Solver\")\n",
    "fill_args = {'alpha':0.1}\n",
    "ymax = 6\n",
    "# Regions\n",
    "ax1.fill_betweenx([0,ymax],auxs[0]*maxstep,auxs[1]*maxstep, color='darkgreen', **fill_args,\n",
    "                  label=r\"$\\lambda=1$\")\n",
    "ax1.fill_betweenx([0,ymax],auxs[1]*maxstep,auxs[2]*maxstep, color='red', **fill_args,\n",
    "                  label=r\"$\\lambda=-1$\")\n",
    "ax1.fill_betweenx([0,ymax],auxs[2]*maxstep,auxs[3]*maxstep, color='darkgreen', **fill_args)\n",
    "ax1.fill_betweenx([0,ymax],auxs[3]*maxstep,auxs[4]*maxstep, color='red', **fill_args)\n",
    "ax1.legend(loc='center right',bbox_to_anchor=(1.4,.5))\n",
    "\n",
    "# Solver\n",
    "maxstep = 3.1e5\n",
    "ymax=20\n",
    "ymin=-1\n",
    "# Solver\n",
    "ax2 = plt.subplot(2,1,2)\n",
    "gen_cum_pd = df_gen.loc[df_gen[\"tag\"]==\"Environment/Cumulative Reward\", [\"step\", \"value\"]]\n",
    "gen_cum_pd.plot(**kwards, ax=ax2, color='darkred', linewidth=.7, label=\"\")\n",
    "ax2.set_xlabel(\"Steps\")\n",
    "ax2.set_ylabel(\"Cumulative reward\")\n",
    "ax2.set_xlim(0, 3e5)\n",
    "# ax2.legend(\"\", frameon=False)\n",
    "ax2.set_title(\"Generator\")\n",
    "# Regions\n",
    "ax2.fill_betweenx([ymin,ymax],auxs[0]*maxstep,auxs[1]*maxstep, color='darkgreen', **fill_args,\n",
    "                  label=r\"$\\lambda=1$\")\n",
    "ax2.fill_betweenx([ymin,ymax],auxs[1]*maxstep,auxs[2]*maxstep, color='red', **fill_args,\n",
    "                  label=r\"$\\lambda=-1$\")\n",
    "ax2.fill_betweenx([ymin,ymax],auxs[2]*maxstep,auxs[3]*maxstep, color='darkgreen', **fill_args)\n",
    "ax2.fill_betweenx([ymin,ymax],auxs[3]*maxstep,auxs[4]*maxstep, color='red', **fill_args)\n",
    "ax2.legend(loc='center right',bbox_to_anchor=(1.4,.5))\n",
    "plt.tight_layout()\n",
    "# plt.savefig(\"images/Cumm_reward_NoCurr42d.pdf\")"
   ]
  },
  {
   "cell_type": "markdown",
   "id": "fancy-growth",
   "metadata": {},
   "source": [
    "# For test"
   ]
  },
  {
   "cell_type": "code",
   "execution_count": 5,
   "id": "43b5f0f2",
   "metadata": {},
   "outputs": [],
   "source": [
    "from tbparse import SummaryReader"
   ]
  },
  {
   "cell_type": "code",
   "execution_count": 70,
   "id": "20ed39c9",
   "metadata": {},
   "outputs": [],
   "source": [
    "# Get the scores datas from tensorboard events\n",
    "# Needs the tbparse module\n",
    "def get_score(path, step_end=5e6):\n",
    "    reader = SummaryReader(path)\n",
    "    dfScore = reader.scalars\n",
    "    # One big Dataframe for all the aux_input\n",
    "    Score = dfScore.loc[dfScore[\"tag\"]=='Score',['step', 'value']]\n",
    "    Score.rename(columns = {'value':'Score'}, inplace=True)\n",
    "    auxs = [1, 0.5, 0, -0.5, -1] # order of the aux input in the event file, changes every 1e6 steps\n",
    "    \n",
    "    Score[\"aux_input\"] = 1\n",
    "    Scores = dict() # A dictionary of Dataframe\n",
    "    # Set the aux_input column for the corresponding steps\n",
    "    for i, au in enumerate(auxs):\n",
    "        # assign an aux_input for the big DataFrame\n",
    "        Score.loc[Score[\"step\"] > 1e6*i, \"aux_input\"] = au\n",
    "        #Assign one dataFrame for each aux_input\n",
    "        Scores[au] = Score.loc[Score[\"step\"] > 1e6*i, ]\n",
    "        \n",
    "    Score = Score.loc[Score['step'] <= step_end,]\n",
    "    return Score, Scores"
   ]
  },
  {
   "cell_type": "code",
   "execution_count": 49,
   "id": "9e0f22ea",
   "metadata": {},
   "outputs": [],
   "source": [
    "ARL  = dict()\n",
    "PCG  = dict()\n",
    "PCG_Const = dict()\n",
    "fixed = dict()\n",
    "\n",
    "path_ARL = f\"../../TrainerConfig/results/InferenceNoCurr_Curr42d_1/Solver/\"\n",
    "ARLs, ARL = get_score(path_ARL)\n",
    "\n",
    "path_PCG = f\"../../TrainerConfig/results/InferenceNoCurr_PCG_2/Solver/\"\n",
    "PCGs, PCG = get_score(path_PCG)\n",
    "\n",
    "path_constPCG = f\"../../TrainerConfig/results/InferenceNoCurrPCG_Const_1/Solver/\"\n",
    "PCG_Consts, PCG_Const = get_score(path_constPCG)\n",
    "    \n",
    "path_fixed = f\"../../TrainerConfig/results/InferenceNoCurrFixed_2/Solver\"\n",
    "fixeds, fixed = get_score(path_fixed)"
   ]
  },
  {
   "cell_type": "code",
   "execution_count": 50,
   "id": "b65ade10",
   "metadata": {},
   "outputs": [
    {
     "data": {
      "text/html": [
       "<div>\n",
       "<style scoped>\n",
       "    .dataframe tbody tr th:only-of-type {\n",
       "        vertical-align: middle;\n",
       "    }\n",
       "\n",
       "    .dataframe tbody tr th {\n",
       "        vertical-align: top;\n",
       "    }\n",
       "\n",
       "    .dataframe thead th {\n",
       "        text-align: right;\n",
       "    }\n",
       "</style>\n",
       "<table border=\"1\" class=\"dataframe\">\n",
       "  <thead>\n",
       "    <tr style=\"text-align: right;\">\n",
       "      <th></th>\n",
       "      <th>step</th>\n",
       "      <th>Score</th>\n",
       "    </tr>\n",
       "  </thead>\n",
       "  <tbody>\n",
       "    <tr>\n",
       "      <th>50335</th>\n",
       "      <td>1000</td>\n",
       "      <td>0.074392</td>\n",
       "    </tr>\n",
       "    <tr>\n",
       "      <th>50336</th>\n",
       "      <td>2000</td>\n",
       "      <td>2.314286</td>\n",
       "    </tr>\n",
       "    <tr>\n",
       "      <th>50337</th>\n",
       "      <td>3000</td>\n",
       "      <td>3.000000</td>\n",
       "    </tr>\n",
       "    <tr>\n",
       "      <th>50338</th>\n",
       "      <td>4000</td>\n",
       "      <td>3.800000</td>\n",
       "    </tr>\n",
       "    <tr>\n",
       "      <th>50339</th>\n",
       "      <td>5000</td>\n",
       "      <td>4.869565</td>\n",
       "    </tr>\n",
       "    <tr>\n",
       "      <th>...</th>\n",
       "      <td>...</td>\n",
       "      <td>...</td>\n",
       "    </tr>\n",
       "    <tr>\n",
       "      <th>57705</th>\n",
       "      <td>7386000</td>\n",
       "      <td>8.000000</td>\n",
       "    </tr>\n",
       "    <tr>\n",
       "      <th>57706</th>\n",
       "      <td>7387000</td>\n",
       "      <td>8.700000</td>\n",
       "    </tr>\n",
       "    <tr>\n",
       "      <th>57707</th>\n",
       "      <td>7388000</td>\n",
       "      <td>8.600000</td>\n",
       "    </tr>\n",
       "    <tr>\n",
       "      <th>57708</th>\n",
       "      <td>7389000</td>\n",
       "      <td>6.333333</td>\n",
       "    </tr>\n",
       "    <tr>\n",
       "      <th>57709</th>\n",
       "      <td>7390000</td>\n",
       "      <td>7.500000</td>\n",
       "    </tr>\n",
       "  </tbody>\n",
       "</table>\n",
       "<p>7375 rows × 2 columns</p>\n",
       "</div>"
      ],
      "text/plain": [
       "          step     Score\n",
       "50335     1000  0.074392\n",
       "50336     2000  2.314286\n",
       "50337     3000  3.000000\n",
       "50338     4000  3.800000\n",
       "50339     5000  4.869565\n",
       "...        ...       ...\n",
       "57705  7386000  8.000000\n",
       "57706  7387000  8.700000\n",
       "57707  7388000  8.600000\n",
       "57708  7389000  6.333333\n",
       "57709  7390000  7.500000\n",
       "\n",
       "[7375 rows x 2 columns]"
      ]
     },
     "execution_count": 50,
     "metadata": {},
     "output_type": "execute_result"
    }
   ],
   "source": [
    "ARL[1]"
   ]
  },
  {
   "cell_type": "markdown",
   "id": "b8f2730d",
   "metadata": {},
   "source": [
    "### Box plot of the scores for ARLPCG"
   ]
  },
  {
   "cell_type": "code",
   "execution_count": 51,
   "id": "1f12d164",
   "metadata": {
    "scrolled": false
   },
   "outputs": [
    {
     "data": {
      "text/plain": [
       "Text(0.5, 1.0, '')"
      ]
     },
     "execution_count": 51,
     "metadata": {},
     "output_type": "execute_result"
    },
    {
     "data": {
      "image/png": "[encoded data removed]",
      "text/plain": [
       "<Figure size 640x480 with 1 Axes>"
      ]
     },
     "metadata": {},
     "output_type": "display_data"
    }
   ],
   "source": [
    "# ARLs = pd.concat([ARL[d] for d in ARL]) # Combine the DataFrames\n",
    "grouped = ARLs.groupby('aux_input')\n",
    "fig = plt.figure()\n",
    "ax = fig.gca()\n",
    "ax.grid()\n",
    "# bp = grouped.boxplot(column=[\"Score\"], subplots=False, ax=ax)\n",
    "ARLs.loc[:,[\"Score\", \"aux_input\"]].boxplot(by=\"aux_input\", ax=ax)\n",
    "ax.set_xlabel(r\"$\\lambda$\")\n",
    "ax.set_ylabel(\"Score\")\n",
    "plt.suptitle(\"\")\n",
    "plt.title(\"\")"
   ]
  },
  {
   "cell_type": "code",
   "execution_count": 52,
   "id": "fa91a65e",
   "metadata": {
    "scrolled": false
   },
   "outputs": [],
   "source": [
    "def boxplots(df, suptitle=\"\", title=\"\", ax=None, **kwargs):\n",
    "    grouped = df.groupby('aux_input')\n",
    "    \n",
    "    # new figure\n",
    "    if(ax == None):\n",
    "        fig = plt.figure()\n",
    "        ax = fig.gca()\n",
    "        ax.grid()\n",
    "    \n",
    "    # box plot by aux_input\n",
    "    df.loc[:,[\"Score\", \"aux_input\"]].boxplot(by=\"aux_input\", ax=ax, **kwargs)\n",
    "    ax.set_xlabel(r\"$\\lambda$\")\n",
    "    ax.set_ylabel(\"Score\")\n",
    "#     ax.suptitle.set_text(suptitle)\n",
    "    ax.title.set_text(title)"
   ]
  },
  {
   "cell_type": "code",
   "execution_count": 53,
   "id": "a074c328",
   "metadata": {
    "scrolled": false
   },
   "outputs": [
    {
     "data": {
      "image/png": "[encoded data removed]",
      "text/plain": [
       "<Figure size 640x480 with 4 Axes>"
      ]
     },
     "metadata": {},
     "output_type": "display_data"
    }
   ],
   "source": [
    "n = 4\n",
    "fig = plt.figure()\n",
    "axs = []\n",
    "[axs.append(plt.subplot(1,n,i)) for i in range(1,n+1)]\n",
    "# axs.append(plt.subplot(1,3,1))\n",
    "# axs.append(plt.subplot(1,3,2))\n",
    "# axs.append(plt.subplot(1,3,3))\n",
    "\n",
    "for ax in axs:\n",
    "    ax.set_ylim(0,10)\n",
    "\n",
    "boxplots(ARLs, ax=axs[0], title=\"ARLPCG\")\n",
    "boxplots(PCGs, ax=axs[1], title=\"Domain randomization\")\n",
    "boxplots(PCG_Consts, ax=axs[2], title=\"Similar to the original\")\n",
    "boxplots(fixeds, ax=axs[3], title=\"Fixed environment\")\n",
    "plt.suptitle(\"\")\n",
    "plt.tight_layout()"
   ]
  },
  {
   "cell_type": "code",
   "execution_count": 54,
   "id": "b36226e2",
   "metadata": {
    "scrolled": false
   },
   "outputs": [
    {
     "data": {
      "text/plain": [
       "step     2.770456e+06\n",
       "Score    6.851947e+00\n",
       "dtype: float64"
      ]
     },
     "execution_count": 54,
     "metadata": {},
     "output_type": "execute_result"
    }
   ],
   "source": [
    "PCG_Const[1].mean()"
   ]
  },
  {
   "cell_type": "code",
   "execution_count": 55,
   "id": "7b6a0aba",
   "metadata": {
    "scrolled": true
   },
   "outputs": [
    {
     "data": {
      "text/plain": [
       "step     3.081937e+06\n",
       "Score    7.396590e+00\n",
       "dtype: float64"
      ]
     },
     "execution_count": 55,
     "metadata": {},
     "output_type": "execute_result"
    }
   ],
   "source": [
    "PCG[1].mean()"
   ]
  },
  {
   "cell_type": "code",
   "execution_count": 56,
   "id": "65ed9c56",
   "metadata": {
    "scrolled": false
   },
   "outputs": [
    {
     "data": {
      "text/plain": [
       "step     3.702967e+06\n",
       "Score    7.312714e+00\n",
       "dtype: float64"
      ]
     },
     "execution_count": 56,
     "metadata": {},
     "output_type": "execute_result"
    }
   ],
   "source": [
    "ARL[1].mean()"
   ]
  },
  {
   "cell_type": "code",
   "execution_count": 58,
   "id": "28d4f569",
   "metadata": {},
   "outputs": [
    {
     "data": {
      "text/plain": [
       "step     6.500500e+06\n",
       "Score    2.280048e+00\n",
       "dtype: float64"
      ]
     },
     "execution_count": 58,
     "metadata": {},
     "output_type": "execute_result"
    }
   ],
   "source": [
    "fixed[-1].mean()"
   ]
  },
  {
   "cell_type": "code",
   "execution_count": 71,
   "id": "edd10f41",
   "metadata": {},
   "outputs": [],
   "source": [
    "def means(df_list, tag=\"Score\"):\n",
    "    value = []\n",
    "    for d in df_list:\n",
    "        value.append(d[tag].mean())\n",
    "    return np.array(value)\n",
    "    \n",
    "def medians(df_list, tag=\"Score\"):\n",
    "    value = []\n",
    "    for d in df_list:\n",
    "        value.append(d[tag].median())\n",
    "    return np.array(value)\n",
    "\n",
    "def std(df_list, tag=\"Score\"):\n",
    "    value = []\n",
    "    for d in df_list:\n",
    "        value.append(d[tag].std())\n",
    "    return np.array(value)\n",
    "\n",
    "def ratio(df, aux, average_method = \"mean\"):\n",
    "    if(average_method == \"mean\"):\n",
    "        return df[aux][\"Score\"].mean() / 10\n",
    "    elif(average_method == \"median\"):\n",
    "        return df[aux][\"Score\"].median() / 10\n",
    "    else:\n",
    "        return df[aux][\"Score\"].mean() / 10\n",
    "    \n",
    "def ratioWithStd(df, aux, average_method = \"mean\"):\n",
    "    std = df[aux][\"Score\"].std() / 10\n",
    "    if(average_method == \"mean\"):\n",
    "        av = df[aux][\"Score\"].mean() / 10\n",
    "        return f\"{av:.5f}$\\pm${std:.3f}\"\n",
    "    elif(average_method == \"median\"):\n",
    "        av = df[aux][\"Score\"].median() / 10\n",
    "        return f\"{av:.5f}$\\pm${std:.3f}\""
   ]
  },
  {
   "cell_type": "markdown",
   "id": "40219ec5",
   "metadata": {},
   "source": [
    "# Solving ratio without error"
   ]
  },
  {
   "cell_type": "code",
   "execution_count": 60,
   "id": "04b50453",
   "metadata": {
    "scrolled": true
   },
   "outputs": [],
   "source": [
    "aux_list = [-1, -.5, 0, .5, 1]\n",
    "models = [\"ARLPCG\", \"PCG\", \"Const PCG\", \"Fixed\"]\n",
    "descr = dict()\n",
    "\n",
    "# Create a table of the solving ratio\n",
    "descr[models[0]] = {aux:ratio(ARL, aux) for aux in aux_list} #ARLPCG\n",
    "descr[models[1]] = {aux:ratio(PCG, aux) for aux in aux_list} #PCG\n",
    "descr[models[2]] = {aux: ratio(PCG_Const, aux) for aux in aux_list} #Const PCG\n",
    "descr[models[3]] = {aux: ratio(fixed, aux) for aux in aux_list} # Fixed"
   ]
  },
  {
   "cell_type": "code",
   "execution_count": 61,
   "id": "b8f8c93d",
   "metadata": {},
   "outputs": [
    {
     "data": {
      "text/html": [
       "<div>\n",
       "<style scoped>\n",
       "    .dataframe tbody tr th:only-of-type {\n",
       "        vertical-align: middle;\n",
       "    }\n",
       "\n",
       "    .dataframe tbody tr th {\n",
       "        vertical-align: top;\n",
       "    }\n",
       "\n",
       "    .dataframe thead th {\n",
       "        text-align: right;\n",
       "    }\n",
       "</style>\n",
       "<table border=\"1\" class=\"dataframe\">\n",
       "  <thead>\n",
       "    <tr style=\"text-align: right;\">\n",
       "      <th></th>\n",
       "      <th>ARLPCG</th>\n",
       "      <th>PCG</th>\n",
       "      <th>Const PCG</th>\n",
       "      <th>Fixed</th>\n",
       "    </tr>\n",
       "  </thead>\n",
       "  <tbody>\n",
       "    <tr>\n",
       "      <th>-1.0</th>\n",
       "      <td>0.731198</td>\n",
       "      <td>0.741348</td>\n",
       "      <td>0.689860</td>\n",
       "      <td>0.228005</td>\n",
       "    </tr>\n",
       "    <tr>\n",
       "      <th>-0.5</th>\n",
       "      <td>0.732112</td>\n",
       "      <td>0.741569</td>\n",
       "      <td>0.686852</td>\n",
       "      <td>0.227855</td>\n",
       "    </tr>\n",
       "    <tr>\n",
       "      <th>0.0</th>\n",
       "      <td>0.732340</td>\n",
       "      <td>0.741081</td>\n",
       "      <td>0.687270</td>\n",
       "      <td>0.227938</td>\n",
       "    </tr>\n",
       "    <tr>\n",
       "      <th>0.5</th>\n",
       "      <td>0.732328</td>\n",
       "      <td>0.741140</td>\n",
       "      <td>0.686751</td>\n",
       "      <td>0.228048</td>\n",
       "    </tr>\n",
       "    <tr>\n",
       "      <th>1.0</th>\n",
       "      <td>0.731271</td>\n",
       "      <td>0.739659</td>\n",
       "      <td>0.685195</td>\n",
       "      <td>0.227987</td>\n",
       "    </tr>\n",
       "  </tbody>\n",
       "</table>\n",
       "</div>"
      ],
      "text/plain": [
       "        ARLPCG       PCG  Const PCG     Fixed\n",
       "-1.0  0.731198  0.741348   0.689860  0.228005\n",
       "-0.5  0.732112  0.741569   0.686852  0.227855\n",
       " 0.0  0.732340  0.741081   0.687270  0.227938\n",
       " 0.5  0.732328  0.741140   0.686751  0.228048\n",
       " 1.0  0.731271  0.739659   0.685195  0.227987"
      ]
     },
     "execution_count": 61,
     "metadata": {},
     "output_type": "execute_result"
    }
   ],
   "source": [
    "pd.DataFrame(descr)"
   ]
  },
  {
   "cell_type": "code",
   "execution_count": 63,
   "id": "ee86e3de",
   "metadata": {
    "scrolled": true
   },
   "outputs": [
    {
     "data": {
      "text/html": [
       "<div>\n",
       "<style scoped>\n",
       "    .dataframe tbody tr th:only-of-type {\n",
       "        vertical-align: middle;\n",
       "    }\n",
       "\n",
       "    .dataframe tbody tr th {\n",
       "        vertical-align: top;\n",
       "    }\n",
       "\n",
       "    .dataframe thead th {\n",
       "        text-align: right;\n",
       "    }\n",
       "</style>\n",
       "<table border=\"1\" class=\"dataframe\">\n",
       "  <thead>\n",
       "    <tr style=\"text-align: right;\">\n",
       "      <th></th>\n",
       "      <th>ARLPCG</th>\n",
       "      <th>PCG</th>\n",
       "      <th>Const PCG</th>\n",
       "      <th>Fixed</th>\n",
       "    </tr>\n",
       "  </thead>\n",
       "  <tbody>\n",
       "    <tr>\n",
       "      <th>-1.0</th>\n",
       "      <td>0.735294</td>\n",
       "      <td>0.745000</td>\n",
       "      <td>0.688889</td>\n",
       "      <td>0.226316</td>\n",
       "    </tr>\n",
       "    <tr>\n",
       "      <th>-0.5</th>\n",
       "      <td>0.736364</td>\n",
       "      <td>0.746667</td>\n",
       "      <td>0.686667</td>\n",
       "      <td>0.225806</td>\n",
       "    </tr>\n",
       "    <tr>\n",
       "      <th>0.0</th>\n",
       "      <td>0.736364</td>\n",
       "      <td>0.747368</td>\n",
       "      <td>0.686364</td>\n",
       "      <td>0.226087</td>\n",
       "    </tr>\n",
       "    <tr>\n",
       "      <th>0.5</th>\n",
       "      <td>0.736364</td>\n",
       "      <td>0.747368</td>\n",
       "      <td>0.687500</td>\n",
       "      <td>0.226190</td>\n",
       "    </tr>\n",
       "    <tr>\n",
       "      <th>1.0</th>\n",
       "      <td>0.735714</td>\n",
       "      <td>0.745455</td>\n",
       "      <td>0.687500</td>\n",
       "      <td>0.226087</td>\n",
       "    </tr>\n",
       "  </tbody>\n",
       "</table>\n",
       "</div>"
      ],
      "text/plain": [
       "        ARLPCG       PCG  Const PCG     Fixed\n",
       "-1.0  0.735294  0.745000   0.688889  0.226316\n",
       "-0.5  0.736364  0.746667   0.686667  0.225806\n",
       " 0.0  0.736364  0.747368   0.686364  0.226087\n",
       " 0.5  0.736364  0.747368   0.687500  0.226190\n",
       " 1.0  0.735714  0.745455   0.687500  0.226087"
      ]
     },
     "execution_count": 63,
     "metadata": {},
     "output_type": "execute_result"
    }
   ],
   "source": [
    "descr1 = dict()\n",
    "\n",
    "# Create a table of the solving ratio\n",
    "descr1[models[0]] = {aux:ratio(ARL, aux, average_method='median') for aux in aux_list} #ARLPCG\n",
    "descr1[models[1]] = {aux:ratio(PCG, aux, average_method='median') for aux in aux_list} #PCG\n",
    "descr1[models[2]] = {aux: ratio(PCG_Const, aux,  average_method='median') for aux in aux_list} #Const PCG\n",
    "descr1[models[3]] = {aux: ratio(fixed, aux,  average_method='median') for aux in aux_list} #Const PCG\n",
    "\n",
    "pd.DataFrame(descr1)"
   ]
  },
  {
   "cell_type": "code",
   "execution_count": 64,
   "id": "cfbc74d8",
   "metadata": {},
   "outputs": [
    {
     "data": {
      "text/plain": [
       "step     4.570000e+06\n",
       "Score    7.466667e+00\n",
       "dtype: float64"
      ]
     },
     "execution_count": 64,
     "metadata": {},
     "output_type": "execute_result"
    }
   ],
   "source": [
    "PCG[-0.5].median()"
   ]
  },
  {
   "cell_type": "markdown",
   "id": "412b3efc",
   "metadata": {},
   "source": [
    "# Solving ratio with errors"
   ]
  },
  {
   "cell_type": "code",
   "execution_count": 74,
   "id": "e3afc914",
   "metadata": {},
   "outputs": [],
   "source": [
    "aux_list = [-1, -.5, 0, .5, 1]\n",
    "descrE = dict()\n",
    "\n",
    "models = [\"ARLPCG\", \"Domain randomization\", \"Original game\", \"Fixed environment\"]\n",
    "\n",
    "# Create a table of the solving ratio\n",
    "descrE[models[0]] = {aux:ratioWithStd(ARL, aux) for aux in aux_list} #ARLPCG\n",
    "descrE[models[1]] = {aux:ratioWithStd(PCG, aux) for aux in aux_list} #PCG\n",
    "descrE[models[2]] = {aux: ratioWithStd(PCG_Const, aux) for aux in aux_list} #Const PCG\n",
    "descrE[models[3]] = {aux: ratioWithStd(fixed, aux) for aux in aux_list} #Const PCG\n",
    "descrE = pd.DataFrame(descrE)\n",
    "\n",
    "# Rename the axis\n",
    "descrE.rename_axis(\"$\\lambda$\", axis=1, inplace=True)"
   ]
  },
  {
   "cell_type": "code",
   "execution_count": 75,
   "id": "8ae21adb",
   "metadata": {},
   "outputs": [
    {
     "data": {
      "text/html": [
       "<div>\n",
       "<style scoped>\n",
       "    .dataframe tbody tr th:only-of-type {\n",
       "        vertical-align: middle;\n",
       "    }\n",
       "\n",
       "    .dataframe tbody tr th {\n",
       "        vertical-align: top;\n",
       "    }\n",
       "\n",
       "    .dataframe thead th {\n",
       "        text-align: right;\n",
       "    }\n",
       "</style>\n",
       "<table border=\"1\" class=\"dataframe\">\n",
       "  <thead>\n",
       "    <tr style=\"text-align: right;\">\n",
       "      <th>$\\lambda$</th>\n",
       "      <th>ARLPCG</th>\n",
       "      <th>Domain randomization</th>\n",
       "      <th>Original game</th>\n",
       "      <th>Fixed environment</th>\n",
       "    </tr>\n",
       "  </thead>\n",
       "  <tbody>\n",
       "    <tr>\n",
       "      <th>-1.0</th>\n",
       "      <td>0.73120$\\pm$0.083</td>\n",
       "      <td>0.74135$\\pm$0.089</td>\n",
       "      <td>0.68986$\\pm$0.087</td>\n",
       "      <td>0.22800$\\pm$0.032</td>\n",
       "    </tr>\n",
       "    <tr>\n",
       "      <th>-0.5</th>\n",
       "      <td>0.73211$\\pm$0.083</td>\n",
       "      <td>0.74157$\\pm$0.089</td>\n",
       "      <td>0.68685$\\pm$0.087</td>\n",
       "      <td>0.22785$\\pm$0.032</td>\n",
       "    </tr>\n",
       "    <tr>\n",
       "      <th>0.0</th>\n",
       "      <td>0.73234$\\pm$0.083</td>\n",
       "      <td>0.74108$\\pm$0.090</td>\n",
       "      <td>0.68727$\\pm$0.087</td>\n",
       "      <td>0.22794$\\pm$0.032</td>\n",
       "    </tr>\n",
       "    <tr>\n",
       "      <th>0.5</th>\n",
       "      <td>0.73233$\\pm$0.083</td>\n",
       "      <td>0.74114$\\pm$0.090</td>\n",
       "      <td>0.68675$\\pm$0.087</td>\n",
       "      <td>0.22805$\\pm$0.033</td>\n",
       "    </tr>\n",
       "    <tr>\n",
       "      <th>1.0</th>\n",
       "      <td>0.73127$\\pm$0.085</td>\n",
       "      <td>0.73966$\\pm$0.092</td>\n",
       "      <td>0.68519$\\pm$0.090</td>\n",
       "      <td>0.22799$\\pm$0.033</td>\n",
       "    </tr>\n",
       "  </tbody>\n",
       "</table>\n",
       "</div>"
      ],
      "text/plain": [
       "$\\lambda$             ARLPCG Domain randomization      Original game   \n",
       "-1.0       0.73120$\\pm$0.083    0.74135$\\pm$0.089  0.68986$\\pm$0.087  \\\n",
       "-0.5       0.73211$\\pm$0.083    0.74157$\\pm$0.089  0.68685$\\pm$0.087   \n",
       " 0.0       0.73234$\\pm$0.083    0.74108$\\pm$0.090  0.68727$\\pm$0.087   \n",
       " 0.5       0.73233$\\pm$0.083    0.74114$\\pm$0.090  0.68675$\\pm$0.087   \n",
       " 1.0       0.73127$\\pm$0.085    0.73966$\\pm$0.092  0.68519$\\pm$0.090   \n",
       "\n",
       "$\\lambda$  Fixed environment  \n",
       "-1.0       0.22800$\\pm$0.032  \n",
       "-0.5       0.22785$\\pm$0.032  \n",
       " 0.0       0.22794$\\pm$0.032  \n",
       " 0.5       0.22805$\\pm$0.033  \n",
       " 1.0       0.22799$\\pm$0.033  "
      ]
     },
     "execution_count": 75,
     "metadata": {},
     "output_type": "execute_result"
    }
   ],
   "source": [
    "descrE"
   ]
  },
  {
   "cell_type": "code",
   "execution_count": 76,
   "id": "76598255",
   "metadata": {},
   "outputs": [
    {
     "name": "stdout",
     "output_type": "stream",
     "text": [
      "\\begin{tabular}{lllll}\n",
      "\\toprule\n",
      "$\\lambda$ & ARLPCG & Domain randomization & Original game & Fixed environment \\\\\n",
      "\\midrule\n",
      "-1.000000 & 0.73120$\\pm$0.083 & 0.74135$\\pm$0.089 & 0.68986$\\pm$0.087 & 0.22800$\\pm$0.032 \\\\\n",
      "-0.500000 & 0.73211$\\pm$0.083 & 0.74157$\\pm$0.089 & 0.68685$\\pm$0.087 & 0.22785$\\pm$0.032 \\\\\n",
      "0.000000 & 0.73234$\\pm$0.083 & 0.74108$\\pm$0.090 & 0.68727$\\pm$0.087 & 0.22794$\\pm$0.032 \\\\\n",
      "0.500000 & 0.73233$\\pm$0.083 & 0.74114$\\pm$0.090 & 0.68675$\\pm$0.087 & 0.22805$\\pm$0.033 \\\\\n",
      "1.000000 & 0.73127$\\pm$0.085 & 0.73966$\\pm$0.092 & 0.68519$\\pm$0.090 & 0.22799$\\pm$0.033 \\\\\n",
      "\\bottomrule\n",
      "\\end{tabular}\n",
      "\n"
     ]
    }
   ],
   "source": [
    "print(descrE.to_latex())"
   ]
  },
  {
   "cell_type": "code",
   "execution_count": 40,
   "id": "f7225d41",
   "metadata": {},
   "outputs": [
    {
     "data": {
      "text/plain": [
       "step     4.195500e+06\n",
       "Score    7.323281e+00\n",
       "dtype: float64"
      ]
     },
     "execution_count": 40,
     "metadata": {},
     "output_type": "execute_result"
    }
   ],
   "source": [
    "ARL[0.5].mean()"
   ]
  }
 ],
 "metadata": {
  "kernelspec": {
   "display_name": "Python 3 (ipykernel)",
   "language": "python",
   "name": "python3"
  },
  "language_info": {
   "codemirror_mode": {
    "name": "ipython",
    "version": 3
   },
   "file_extension": ".py",
   "mimetype": "text/x-python",
   "name": "python",
   "nbconvert_exporter": "python",
   "pygments_lexer": "ipython3",
   "version": "3.9.2"
  }
 },
 "nbformat": 4,
 "nbformat_minor": 5
}
